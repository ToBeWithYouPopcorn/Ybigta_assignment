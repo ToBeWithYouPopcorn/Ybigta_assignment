{
  "cells": [
    {
      "cell_type": "markdown",
      "source": [
        "# 과제1"
      ],
      "metadata": {
        "id": "XfiJppvoK1uY"
      },
      "id": "XfiJppvoK1uY"
    },
    {
      "cell_type": "markdown",
      "source": [
        "비지도 학습의 목적인 Grouping에 대해 자세히 설명해 주세요! Dataset을 Grouping한다는 것이 무슨 의미인지 간단히 서술해 주시고, 세션에서 언급되었던 Grouping을 위한 두 수단에 대해서 예시 모델을 제시하여 설명해 주시면 됩니다! 예시 모델의 종류에 대해서는 구글링을 통해 조사할 수 있겠습니다."
      ],
      "metadata": {
        "id": "MXEvFCCxK31f"
      },
      "id": "MXEvFCCxK31f"
    },
    {
      "cell_type": "markdown",
      "source": [
        "* 데이터셋 Grouping : 하나의 데이터셋에서, 유사한 특성이나 패턴을 가진 데이터들 동일한 그룹으로 묶는 것.\n",
        "- 1. 군집화(clustering) 기법\n",
        "> - K-means 클러스터링 : 각 데이터 간의 거리를 기반으로 군집화하는 것. 거리 기반으로 군집화하기 때문에 이상치에 민감하고, 데이터 스케일링이 필요하다. 또한 군집의 개수를 직접 설정해줘야 하는 어려움도 있다. 이때 군집의 개수를 선택하기 위해 엘보우 method를 사용하거나, 실루엣 스코어 등을 지표로 활용할 수 있다.\n",
        "> - DBSCAN 클러스터링 : 데이터 간의 밀도를 기반으로 군집화하는 것으로, K-means 군집화와 다른 점은 군집의 개수를 지정해 줄 필요가 없다는 것이다. 그 대신 기준점으로부터의 거리 epsilon과, 그 거리 내에 군집이 이뤄지기 위한 최소한의 점의 개수 min_samples를 지정해야 한다.\n",
        "> - K-means는 구형인 데이터셋 군집화에 유리한 반면, DBSCAN은 좀 더 기하학적인 데이터셋에서 군집화할 때 유리하다.\n",
        "\n",
        "- 2. 차원 축소 기법\n",
        "> - PCA : 현재 데이터셋의 k개 특성들을 조합해, 완전히 새로운 특성을 추출해 내는 것. 기존 특성들의 공간에서, 분산이 가장 큰 순서대로 축을 측정해 새로운 변수를 k개 만들고, 이들 중 유의미한 변수들만 남김으로써 차원을 축소하는 모델이다."
      ],
      "metadata": {
        "id": "M2A-Lua1MumT"
      },
      "id": "M2A-Lua1MumT"
    },
    {
      "cell_type": "markdown",
      "source": [
        "# 과제2"
      ],
      "metadata": {
        "id": "wh5zG4-5KqaY"
      },
      "id": "wh5zG4-5KqaY"
    },
    {
      "cell_type": "code",
      "source": [
        "from google.colab import drive\n",
        "drive.mount('/content/drive')"
      ],
      "metadata": {
        "colab": {
          "base_uri": "https://localhost:8080/"
        },
        "id": "mGSjcMnTXqB8",
        "outputId": "97218f15-1862-4f0d-c498-64bebc3aff29"
      },
      "id": "mGSjcMnTXqB8",
      "execution_count": 163,
      "outputs": [
        {
          "output_type": "stream",
          "name": "stdout",
          "text": [
            "Drive already mounted at /content/drive; to attempt to forcibly remount, call drive.mount(\"/content/drive\", force_remount=True).\n"
          ]
        }
      ]
    },
    {
      "cell_type": "code",
      "execution_count": 164,
      "id": "d269e681",
      "metadata": {
        "id": "d269e681"
      },
      "outputs": [],
      "source": [
        "import numpy as np\n",
        "import pandas as pd\n",
        "\n",
        "from sklearn.tree import DecisionTreeClassifier\n",
        "from sklearn.model_selection import train_test_split\n",
        "\n",
        "import seaborn as sns\n",
        "import matplotlib.pyplot as plt"
      ]
    },
    {
      "cell_type": "code",
      "source": [
        "df = pd.read_csv('/content/drive/MyDrive/Colab Notebooks/와이빅타/diabetes.csv')"
      ],
      "metadata": {
        "id": "ID9UEFhOYPup"
      },
      "id": "ID9UEFhOYPup",
      "execution_count": 165,
      "outputs": []
    },
    {
      "cell_type": "code",
      "source": [
        "df"
      ],
      "metadata": {
        "colab": {
          "base_uri": "https://localhost:8080/",
          "height": 444
        },
        "id": "behqRL0wZ-iX",
        "outputId": "489d817a-4956-44f9-8949-8699191daa72"
      },
      "id": "behqRL0wZ-iX",
      "execution_count": 166,
      "outputs": [
        {
          "output_type": "execute_result",
          "data": {
            "text/plain": [
              "     Pregnancies  Glucose  BloodPressure  SkinThickness  Insulin   BMI  \\\n",
              "0              6      148             72             35        0  33.6   \n",
              "1              1       85             66             29        0  26.6   \n",
              "2              8      183             64              0        0  23.3   \n",
              "3              1       89             66             23       94  28.1   \n",
              "4              0      137             40             35      168  43.1   \n",
              "..           ...      ...            ...            ...      ...   ...   \n",
              "763           10      101             76             48      180  32.9   \n",
              "764            2      122             70             27        0  36.8   \n",
              "765            5      121             72             23      112  26.2   \n",
              "766            1      126             60              0        0  30.1   \n",
              "767            1       93             70             31        0  30.4   \n",
              "\n",
              "     DiabetesPedigreeFunction  Age  Outcome  \n",
              "0                       0.627   50        1  \n",
              "1                       0.351   31        0  \n",
              "2                       0.672   32        1  \n",
              "3                       0.167   21        0  \n",
              "4                       2.288   33        1  \n",
              "..                        ...  ...      ...  \n",
              "763                     0.171   63        0  \n",
              "764                     0.340   27        0  \n",
              "765                     0.245   30        0  \n",
              "766                     0.349   47        1  \n",
              "767                     0.315   23        0  \n",
              "\n",
              "[768 rows x 9 columns]"
            ],
            "text/html": [
              "\n",
              "  <div id=\"df-37ed0402-70e0-4266-b213-52fb00e2f5fa\" class=\"colab-df-container\">\n",
              "    <div>\n",
              "<style scoped>\n",
              "    .dataframe tbody tr th:only-of-type {\n",
              "        vertical-align: middle;\n",
              "    }\n",
              "\n",
              "    .dataframe tbody tr th {\n",
              "        vertical-align: top;\n",
              "    }\n",
              "\n",
              "    .dataframe thead th {\n",
              "        text-align: right;\n",
              "    }\n",
              "</style>\n",
              "<table border=\"1\" class=\"dataframe\">\n",
              "  <thead>\n",
              "    <tr style=\"text-align: right;\">\n",
              "      <th></th>\n",
              "      <th>Pregnancies</th>\n",
              "      <th>Glucose</th>\n",
              "      <th>BloodPressure</th>\n",
              "      <th>SkinThickness</th>\n",
              "      <th>Insulin</th>\n",
              "      <th>BMI</th>\n",
              "      <th>DiabetesPedigreeFunction</th>\n",
              "      <th>Age</th>\n",
              "      <th>Outcome</th>\n",
              "    </tr>\n",
              "  </thead>\n",
              "  <tbody>\n",
              "    <tr>\n",
              "      <th>0</th>\n",
              "      <td>6</td>\n",
              "      <td>148</td>\n",
              "      <td>72</td>\n",
              "      <td>35</td>\n",
              "      <td>0</td>\n",
              "      <td>33.6</td>\n",
              "      <td>0.627</td>\n",
              "      <td>50</td>\n",
              "      <td>1</td>\n",
              "    </tr>\n",
              "    <tr>\n",
              "      <th>1</th>\n",
              "      <td>1</td>\n",
              "      <td>85</td>\n",
              "      <td>66</td>\n",
              "      <td>29</td>\n",
              "      <td>0</td>\n",
              "      <td>26.6</td>\n",
              "      <td>0.351</td>\n",
              "      <td>31</td>\n",
              "      <td>0</td>\n",
              "    </tr>\n",
              "    <tr>\n",
              "      <th>2</th>\n",
              "      <td>8</td>\n",
              "      <td>183</td>\n",
              "      <td>64</td>\n",
              "      <td>0</td>\n",
              "      <td>0</td>\n",
              "      <td>23.3</td>\n",
              "      <td>0.672</td>\n",
              "      <td>32</td>\n",
              "      <td>1</td>\n",
              "    </tr>\n",
              "    <tr>\n",
              "      <th>3</th>\n",
              "      <td>1</td>\n",
              "      <td>89</td>\n",
              "      <td>66</td>\n",
              "      <td>23</td>\n",
              "      <td>94</td>\n",
              "      <td>28.1</td>\n",
              "      <td>0.167</td>\n",
              "      <td>21</td>\n",
              "      <td>0</td>\n",
              "    </tr>\n",
              "    <tr>\n",
              "      <th>4</th>\n",
              "      <td>0</td>\n",
              "      <td>137</td>\n",
              "      <td>40</td>\n",
              "      <td>35</td>\n",
              "      <td>168</td>\n",
              "      <td>43.1</td>\n",
              "      <td>2.288</td>\n",
              "      <td>33</td>\n",
              "      <td>1</td>\n",
              "    </tr>\n",
              "    <tr>\n",
              "      <th>...</th>\n",
              "      <td>...</td>\n",
              "      <td>...</td>\n",
              "      <td>...</td>\n",
              "      <td>...</td>\n",
              "      <td>...</td>\n",
              "      <td>...</td>\n",
              "      <td>...</td>\n",
              "      <td>...</td>\n",
              "      <td>...</td>\n",
              "    </tr>\n",
              "    <tr>\n",
              "      <th>763</th>\n",
              "      <td>10</td>\n",
              "      <td>101</td>\n",
              "      <td>76</td>\n",
              "      <td>48</td>\n",
              "      <td>180</td>\n",
              "      <td>32.9</td>\n",
              "      <td>0.171</td>\n",
              "      <td>63</td>\n",
              "      <td>0</td>\n",
              "    </tr>\n",
              "    <tr>\n",
              "      <th>764</th>\n",
              "      <td>2</td>\n",
              "      <td>122</td>\n",
              "      <td>70</td>\n",
              "      <td>27</td>\n",
              "      <td>0</td>\n",
              "      <td>36.8</td>\n",
              "      <td>0.340</td>\n",
              "      <td>27</td>\n",
              "      <td>0</td>\n",
              "    </tr>\n",
              "    <tr>\n",
              "      <th>765</th>\n",
              "      <td>5</td>\n",
              "      <td>121</td>\n",
              "      <td>72</td>\n",
              "      <td>23</td>\n",
              "      <td>112</td>\n",
              "      <td>26.2</td>\n",
              "      <td>0.245</td>\n",
              "      <td>30</td>\n",
              "      <td>0</td>\n",
              "    </tr>\n",
              "    <tr>\n",
              "      <th>766</th>\n",
              "      <td>1</td>\n",
              "      <td>126</td>\n",
              "      <td>60</td>\n",
              "      <td>0</td>\n",
              "      <td>0</td>\n",
              "      <td>30.1</td>\n",
              "      <td>0.349</td>\n",
              "      <td>47</td>\n",
              "      <td>1</td>\n",
              "    </tr>\n",
              "    <tr>\n",
              "      <th>767</th>\n",
              "      <td>1</td>\n",
              "      <td>93</td>\n",
              "      <td>70</td>\n",
              "      <td>31</td>\n",
              "      <td>0</td>\n",
              "      <td>30.4</td>\n",
              "      <td>0.315</td>\n",
              "      <td>23</td>\n",
              "      <td>0</td>\n",
              "    </tr>\n",
              "  </tbody>\n",
              "</table>\n",
              "<p>768 rows × 9 columns</p>\n",
              "</div>\n",
              "    <div class=\"colab-df-buttons\">\n",
              "\n",
              "  <div class=\"colab-df-container\">\n",
              "    <button class=\"colab-df-convert\" onclick=\"convertToInteractive('df-37ed0402-70e0-4266-b213-52fb00e2f5fa')\"\n",
              "            title=\"Convert this dataframe to an interactive table.\"\n",
              "            style=\"display:none;\">\n",
              "\n",
              "  <svg xmlns=\"http://www.w3.org/2000/svg\" height=\"24px\" viewBox=\"0 -960 960 960\">\n",
              "    <path d=\"M120-120v-720h720v720H120Zm60-500h600v-160H180v160Zm220 220h160v-160H400v160Zm0 220h160v-160H400v160ZM180-400h160v-160H180v160Zm440 0h160v-160H620v160ZM180-180h160v-160H180v160Zm440 0h160v-160H620v160Z\"/>\n",
              "  </svg>\n",
              "    </button>\n",
              "\n",
              "  <style>\n",
              "    .colab-df-container {\n",
              "      display:flex;\n",
              "      gap: 12px;\n",
              "    }\n",
              "\n",
              "    .colab-df-convert {\n",
              "      background-color: #E8F0FE;\n",
              "      border: none;\n",
              "      border-radius: 50%;\n",
              "      cursor: pointer;\n",
              "      display: none;\n",
              "      fill: #1967D2;\n",
              "      height: 32px;\n",
              "      padding: 0 0 0 0;\n",
              "      width: 32px;\n",
              "    }\n",
              "\n",
              "    .colab-df-convert:hover {\n",
              "      background-color: #E2EBFA;\n",
              "      box-shadow: 0px 1px 2px rgba(60, 64, 67, 0.3), 0px 1px 3px 1px rgba(60, 64, 67, 0.15);\n",
              "      fill: #174EA6;\n",
              "    }\n",
              "\n",
              "    .colab-df-buttons div {\n",
              "      margin-bottom: 4px;\n",
              "    }\n",
              "\n",
              "    [theme=dark] .colab-df-convert {\n",
              "      background-color: #3B4455;\n",
              "      fill: #D2E3FC;\n",
              "    }\n",
              "\n",
              "    [theme=dark] .colab-df-convert:hover {\n",
              "      background-color: #434B5C;\n",
              "      box-shadow: 0px 1px 3px 1px rgba(0, 0, 0, 0.15);\n",
              "      filter: drop-shadow(0px 1px 2px rgba(0, 0, 0, 0.3));\n",
              "      fill: #FFFFFF;\n",
              "    }\n",
              "  </style>\n",
              "\n",
              "    <script>\n",
              "      const buttonEl =\n",
              "        document.querySelector('#df-37ed0402-70e0-4266-b213-52fb00e2f5fa button.colab-df-convert');\n",
              "      buttonEl.style.display =\n",
              "        google.colab.kernel.accessAllowed ? 'block' : 'none';\n",
              "\n",
              "      async function convertToInteractive(key) {\n",
              "        const element = document.querySelector('#df-37ed0402-70e0-4266-b213-52fb00e2f5fa');\n",
              "        const dataTable =\n",
              "          await google.colab.kernel.invokeFunction('convertToInteractive',\n",
              "                                                    [key], {});\n",
              "        if (!dataTable) return;\n",
              "\n",
              "        const docLinkHtml = 'Like what you see? Visit the ' +\n",
              "          '<a target=\"_blank\" href=https://colab.research.google.com/notebooks/data_table.ipynb>data table notebook</a>'\n",
              "          + ' to learn more about interactive tables.';\n",
              "        element.innerHTML = '';\n",
              "        dataTable['output_type'] = 'display_data';\n",
              "        await google.colab.output.renderOutput(dataTable, element);\n",
              "        const docLink = document.createElement('div');\n",
              "        docLink.innerHTML = docLinkHtml;\n",
              "        element.appendChild(docLink);\n",
              "      }\n",
              "    </script>\n",
              "  </div>\n",
              "\n",
              "\n",
              "<div id=\"df-439346c9-eba2-427b-b090-68913ecbc9dc\">\n",
              "  <button class=\"colab-df-quickchart\" onclick=\"quickchart('df-439346c9-eba2-427b-b090-68913ecbc9dc')\"\n",
              "            title=\"Suggest charts\"\n",
              "            style=\"display:none;\">\n",
              "\n",
              "<svg xmlns=\"http://www.w3.org/2000/svg\" height=\"24px\"viewBox=\"0 0 24 24\"\n",
              "     width=\"24px\">\n",
              "    <g>\n",
              "        <path d=\"M19 3H5c-1.1 0-2 .9-2 2v14c0 1.1.9 2 2 2h14c1.1 0 2-.9 2-2V5c0-1.1-.9-2-2-2zM9 17H7v-7h2v7zm4 0h-2V7h2v10zm4 0h-2v-4h2v4z\"/>\n",
              "    </g>\n",
              "</svg>\n",
              "  </button>\n",
              "\n",
              "<style>\n",
              "  .colab-df-quickchart {\n",
              "      --bg-color: #E8F0FE;\n",
              "      --fill-color: #1967D2;\n",
              "      --hover-bg-color: #E2EBFA;\n",
              "      --hover-fill-color: #174EA6;\n",
              "      --disabled-fill-color: #AAA;\n",
              "      --disabled-bg-color: #DDD;\n",
              "  }\n",
              "\n",
              "  [theme=dark] .colab-df-quickchart {\n",
              "      --bg-color: #3B4455;\n",
              "      --fill-color: #D2E3FC;\n",
              "      --hover-bg-color: #434B5C;\n",
              "      --hover-fill-color: #FFFFFF;\n",
              "      --disabled-bg-color: #3B4455;\n",
              "      --disabled-fill-color: #666;\n",
              "  }\n",
              "\n",
              "  .colab-df-quickchart {\n",
              "    background-color: var(--bg-color);\n",
              "    border: none;\n",
              "    border-radius: 50%;\n",
              "    cursor: pointer;\n",
              "    display: none;\n",
              "    fill: var(--fill-color);\n",
              "    height: 32px;\n",
              "    padding: 0;\n",
              "    width: 32px;\n",
              "  }\n",
              "\n",
              "  .colab-df-quickchart:hover {\n",
              "    background-color: var(--hover-bg-color);\n",
              "    box-shadow: 0 1px 2px rgba(60, 64, 67, 0.3), 0 1px 3px 1px rgba(60, 64, 67, 0.15);\n",
              "    fill: var(--button-hover-fill-color);\n",
              "  }\n",
              "\n",
              "  .colab-df-quickchart-complete:disabled,\n",
              "  .colab-df-quickchart-complete:disabled:hover {\n",
              "    background-color: var(--disabled-bg-color);\n",
              "    fill: var(--disabled-fill-color);\n",
              "    box-shadow: none;\n",
              "  }\n",
              "\n",
              "  .colab-df-spinner {\n",
              "    border: 2px solid var(--fill-color);\n",
              "    border-color: transparent;\n",
              "    border-bottom-color: var(--fill-color);\n",
              "    animation:\n",
              "      spin 1s steps(1) infinite;\n",
              "  }\n",
              "\n",
              "  @keyframes spin {\n",
              "    0% {\n",
              "      border-color: transparent;\n",
              "      border-bottom-color: var(--fill-color);\n",
              "      border-left-color: var(--fill-color);\n",
              "    }\n",
              "    20% {\n",
              "      border-color: transparent;\n",
              "      border-left-color: var(--fill-color);\n",
              "      border-top-color: var(--fill-color);\n",
              "    }\n",
              "    30% {\n",
              "      border-color: transparent;\n",
              "      border-left-color: var(--fill-color);\n",
              "      border-top-color: var(--fill-color);\n",
              "      border-right-color: var(--fill-color);\n",
              "    }\n",
              "    40% {\n",
              "      border-color: transparent;\n",
              "      border-right-color: var(--fill-color);\n",
              "      border-top-color: var(--fill-color);\n",
              "    }\n",
              "    60% {\n",
              "      border-color: transparent;\n",
              "      border-right-color: var(--fill-color);\n",
              "    }\n",
              "    80% {\n",
              "      border-color: transparent;\n",
              "      border-right-color: var(--fill-color);\n",
              "      border-bottom-color: var(--fill-color);\n",
              "    }\n",
              "    90% {\n",
              "      border-color: transparent;\n",
              "      border-bottom-color: var(--fill-color);\n",
              "    }\n",
              "  }\n",
              "</style>\n",
              "\n",
              "  <script>\n",
              "    async function quickchart(key) {\n",
              "      const quickchartButtonEl =\n",
              "        document.querySelector('#' + key + ' button');\n",
              "      quickchartButtonEl.disabled = true;  // To prevent multiple clicks.\n",
              "      quickchartButtonEl.classList.add('colab-df-spinner');\n",
              "      try {\n",
              "        const charts = await google.colab.kernel.invokeFunction(\n",
              "            'suggestCharts', [key], {});\n",
              "      } catch (error) {\n",
              "        console.error('Error during call to suggestCharts:', error);\n",
              "      }\n",
              "      quickchartButtonEl.classList.remove('colab-df-spinner');\n",
              "      quickchartButtonEl.classList.add('colab-df-quickchart-complete');\n",
              "    }\n",
              "    (() => {\n",
              "      let quickchartButtonEl =\n",
              "        document.querySelector('#df-439346c9-eba2-427b-b090-68913ecbc9dc button');\n",
              "      quickchartButtonEl.style.display =\n",
              "        google.colab.kernel.accessAllowed ? 'block' : 'none';\n",
              "    })();\n",
              "  </script>\n",
              "</div>\n",
              "\n",
              "  <div id=\"id_1f31741a-dd12-4de9-8c34-d44e2e14b279\">\n",
              "    <style>\n",
              "      .colab-df-generate {\n",
              "        background-color: #E8F0FE;\n",
              "        border: none;\n",
              "        border-radius: 50%;\n",
              "        cursor: pointer;\n",
              "        display: none;\n",
              "        fill: #1967D2;\n",
              "        height: 32px;\n",
              "        padding: 0 0 0 0;\n",
              "        width: 32px;\n",
              "      }\n",
              "\n",
              "      .colab-df-generate:hover {\n",
              "        background-color: #E2EBFA;\n",
              "        box-shadow: 0px 1px 2px rgba(60, 64, 67, 0.3), 0px 1px 3px 1px rgba(60, 64, 67, 0.15);\n",
              "        fill: #174EA6;\n",
              "      }\n",
              "\n",
              "      [theme=dark] .colab-df-generate {\n",
              "        background-color: #3B4455;\n",
              "        fill: #D2E3FC;\n",
              "      }\n",
              "\n",
              "      [theme=dark] .colab-df-generate:hover {\n",
              "        background-color: #434B5C;\n",
              "        box-shadow: 0px 1px 3px 1px rgba(0, 0, 0, 0.15);\n",
              "        filter: drop-shadow(0px 1px 2px rgba(0, 0, 0, 0.3));\n",
              "        fill: #FFFFFF;\n",
              "      }\n",
              "    </style>\n",
              "    <button class=\"colab-df-generate\" onclick=\"generateWithVariable('df')\"\n",
              "            title=\"Generate code using this dataframe.\"\n",
              "            style=\"display:none;\">\n",
              "\n",
              "  <svg xmlns=\"http://www.w3.org/2000/svg\" height=\"24px\"viewBox=\"0 0 24 24\"\n",
              "       width=\"24px\">\n",
              "    <path d=\"M7,19H8.4L18.45,9,17,7.55,7,17.6ZM5,21V16.75L18.45,3.32a2,2,0,0,1,2.83,0l1.4,1.43a1.91,1.91,0,0,1,.58,1.4,1.91,1.91,0,0,1-.58,1.4L9.25,21ZM18.45,9,17,7.55Zm-12,3A5.31,5.31,0,0,0,4.9,8.1,5.31,5.31,0,0,0,1,6.5,5.31,5.31,0,0,0,4.9,4.9,5.31,5.31,0,0,0,6.5,1,5.31,5.31,0,0,0,8.1,4.9,5.31,5.31,0,0,0,12,6.5,5.46,5.46,0,0,0,6.5,12Z\"/>\n",
              "  </svg>\n",
              "    </button>\n",
              "    <script>\n",
              "      (() => {\n",
              "      const buttonEl =\n",
              "        document.querySelector('#id_1f31741a-dd12-4de9-8c34-d44e2e14b279 button.colab-df-generate');\n",
              "      buttonEl.style.display =\n",
              "        google.colab.kernel.accessAllowed ? 'block' : 'none';\n",
              "\n",
              "      buttonEl.onclick = () => {\n",
              "        google.colab.notebook.generateWithVariable('df');\n",
              "      }\n",
              "      })();\n",
              "    </script>\n",
              "  </div>\n",
              "\n",
              "    </div>\n",
              "  </div>\n"
            ]
          },
          "metadata": {},
          "execution_count": 166
        }
      ]
    },
    {
      "cell_type": "code",
      "source": [
        "df.info()"
      ],
      "metadata": {
        "colab": {
          "base_uri": "https://localhost:8080/"
        },
        "id": "yxu7En_2b4gC",
        "outputId": "390cea4c-7a9c-4954-dd0c-f89c2e452eaf"
      },
      "id": "yxu7En_2b4gC",
      "execution_count": 167,
      "outputs": [
        {
          "output_type": "stream",
          "name": "stdout",
          "text": [
            "<class 'pandas.core.frame.DataFrame'>\n",
            "RangeIndex: 768 entries, 0 to 767\n",
            "Data columns (total 9 columns):\n",
            " #   Column                    Non-Null Count  Dtype  \n",
            "---  ------                    --------------  -----  \n",
            " 0   Pregnancies               768 non-null    int64  \n",
            " 1   Glucose                   768 non-null    int64  \n",
            " 2   BloodPressure             768 non-null    int64  \n",
            " 3   SkinThickness             768 non-null    int64  \n",
            " 4   Insulin                   768 non-null    int64  \n",
            " 5   BMI                       768 non-null    float64\n",
            " 6   DiabetesPedigreeFunction  768 non-null    float64\n",
            " 7   Age                       768 non-null    int64  \n",
            " 8   Outcome                   768 non-null    int64  \n",
            "dtypes: float64(2), int64(7)\n",
            "memory usage: 54.1 KB\n"
          ]
        }
      ]
    },
    {
      "cell_type": "code",
      "source": [
        "x_columns = list(df.columns)\n",
        "x_columns.remove('Outcome')"
      ],
      "metadata": {
        "id": "nzUCs0ndatRs"
      },
      "id": "nzUCs0ndatRs",
      "execution_count": 168,
      "outputs": []
    },
    {
      "cell_type": "markdown",
      "source": [
        "## EDA"
      ],
      "metadata": {
        "id": "T_WDxSx3Y43x"
      },
      "id": "T_WDxSx3Y43x"
    },
    {
      "cell_type": "markdown",
      "source": [
        "### 분포도"
      ],
      "metadata": {
        "id": "J4byNjEVdumx"
      },
      "id": "J4byNjEVdumx"
    },
    {
      "cell_type": "code",
      "source": [
        "sns.set_palette('winter')"
      ],
      "metadata": {
        "id": "MuFSltUEeFAa"
      },
      "id": "MuFSltUEeFAa",
      "execution_count": 169,
      "outputs": []
    },
    {
      "cell_type": "code",
      "source": [
        "plt.figure(figsize=(20,10))\n",
        "n=1\n",
        "for v in x_columns:\n",
        "    ax = plt.subplot(2,4,n)\n",
        "    sns.histplot(df[v])\n",
        "    plt.ylabel('')\n",
        "    n+=1\n",
        "plt.tight_layout()"
      ],
      "metadata": {
        "colab": {
          "base_uri": "https://localhost:8080/",
          "height": 446
        },
        "id": "ICqVz_qedwbO",
        "outputId": "765d1c80-8a62-4681-b88c-0c378d66f23b"
      },
      "id": "ICqVz_qedwbO",
      "execution_count": 170,
      "outputs": [
        {
          "output_type": "display_data",
          "data": {
            "text/plain": [
              "<Figure size 2000x1000 with 8 Axes>"
            ],
            "image/png": "[encoded data removed]"
          },
          "metadata": {}
        }
      ]
    },
    {
      "cell_type": "code",
      "source": [
        "sns.histplot(df['Outcome']);"
      ],
      "metadata": {
        "colab": {
          "base_uri": "https://localhost:8080/",
          "height": 467
        },
        "id": "RKMY_GSzGMs9",
        "outputId": "cffe7555-eecd-44f2-a731-cebcb8ece276"
      },
      "id": "RKMY_GSzGMs9",
      "execution_count": 220,
      "outputs": [
        {
          "output_type": "execute_result",
          "data": {
            "text/plain": [
              "<Axes: xlabel='Outcome', ylabel='Count'>"
            ]
          },
          "metadata": {},
          "execution_count": 220
        },
        {
          "output_type": "display_data",
          "data": {
            "text/plain": [
              "<Figure size 640x480 with 1 Axes>"
            ],
            "image/png": "[encoded data removed]"
          },
          "metadata": {}
        }
      ]
    },
    {
      "cell_type": "markdown",
      "source": [
        "### 결측치"
      ],
      "metadata": {
        "id": "iI1QnuEaZGN1"
      },
      "id": "iI1QnuEaZGN1"
    },
    {
      "cell_type": "code",
      "execution_count": 171,
      "id": "3f7039b0",
      "metadata": {
        "colab": {
          "base_uri": "https://localhost:8080/"
        },
        "id": "3f7039b0",
        "outputId": "68128460-b73c-4300-f4d6-b2e30da362a4"
      },
      "outputs": [
        {
          "output_type": "execute_result",
          "data": {
            "text/plain": [
              "Pregnancies                 0\n",
              "Glucose                     0\n",
              "BloodPressure               0\n",
              "SkinThickness               0\n",
              "Insulin                     0\n",
              "BMI                         0\n",
              "DiabetesPedigreeFunction    0\n",
              "Age                         0\n",
              "Outcome                     0\n",
              "dtype: int64"
            ]
          },
          "metadata": {},
          "execution_count": 171
        }
      ],
      "source": [
        "df.isna().sum()"
      ]
    },
    {
      "cell_type": "markdown",
      "source": [
        "### 이상치"
      ],
      "metadata": {
        "id": "UTpY2ObtZHz7"
      },
      "id": "UTpY2ObtZHz7"
    },
    {
      "cell_type": "code",
      "source": [
        "plt.xticks(rotation=90)\n",
        "sns.boxplot(df[x_columns]);"
      ],
      "metadata": {
        "colab": {
          "base_uri": "https://localhost:8080/",
          "height": 597
        },
        "id": "Q3agO_yGZ84f",
        "outputId": "98f079a2-3380-41ae-8b49-e7e0b2fa362c"
      },
      "id": "Q3agO_yGZ84f",
      "execution_count": 172,
      "outputs": [
        {
          "output_type": "display_data",
          "data": {
            "text/plain": [
              "<Figure size 640x480 with 1 Axes>"
            ],
            "image/png": "[encoded data removed]"
          },
          "metadata": {}
        }
      ]
    },
    {
      "cell_type": "markdown",
      "source": [
        "### 상관계수 행렬 및 VIF 스코어"
      ],
      "metadata": {
        "id": "KOjDzQ9zZJEg"
      },
      "id": "KOjDzQ9zZJEg"
    },
    {
      "cell_type": "code",
      "source": [
        "cmap = sns.light_palette(\"blue\", as_cmap = True)\n",
        "plt.figure(figsize=(6,6))\n",
        "corr_matrix = df.corr()\n",
        "abs_corr_matrix = np.abs(corr_matrix)\n",
        "\n",
        "mask = np.zeros_like(abs_corr_matrix, dtype=np.bool_)\n",
        "mask[np.triu_indices_from(mask)] = True\n",
        "\n",
        "sns.heatmap(abs_corr_matrix, annot = True, cmap = cmap, mask = mask)\n",
        "plt.show()"
      ],
      "metadata": {
        "colab": {
          "base_uri": "https://localhost:8080/",
          "height": 689
        },
        "id": "p18C6BniZN5E",
        "outputId": "57ba55ce-a369-4c16-c5c4-59f944d181da"
      },
      "id": "p18C6BniZN5E",
      "execution_count": 173,
      "outputs": [
        {
          "output_type": "display_data",
          "data": {
            "text/plain": [
              "<Figure size 600x600 with 2 Axes>"
            ],
            "image/png": "[encoded data removed]"
          },
          "metadata": {}
        }
      ]
    },
    {
      "cell_type": "code",
      "source": [
        "def calc_vif(df):\n",
        "    from statsmodels.stats.outliers_influence import variance_inflation_factor\n",
        "    vif = pd.DataFrame()\n",
        "    vif[\"variables\"] = df.columns\n",
        "    vif[\"VIF\"] = [variance_inflation_factor(df.values, i) for i in range(df.shape[1])]\n",
        "    return(vif)\n",
        "\n",
        "calc_vif(df[x_columns])"
      ],
      "metadata": {
        "colab": {
          "base_uri": "https://localhost:8080/",
          "height": 300
        },
        "id": "iexYD5nLZcoH",
        "outputId": "8965bc22-1066-44fd-ddbf-d961fe0170b2"
      },
      "id": "iexYD5nLZcoH",
      "execution_count": 174,
      "outputs": [
        {
          "output_type": "execute_result",
          "data": {
            "text/plain": [
              "                  variables        VIF\n",
              "0               Pregnancies   3.275748\n",
              "1                   Glucose  16.725078\n",
              "2             BloodPressure  14.619512\n",
              "3             SkinThickness   4.008696\n",
              "4                   Insulin   2.063689\n",
              "5                       BMI  18.408884\n",
              "6  DiabetesPedigreeFunction   3.195626\n",
              "7                       Age  13.492985"
            ],
            "text/html": [
              "\n",
              "  <div id=\"df-b02f9b32-c8a6-443d-b85d-595c5a5abe6d\" class=\"colab-df-container\">\n",
              "    <div>\n",
              "<style scoped>\n",
              "    .dataframe tbody tr th:only-of-type {\n",
              "        vertical-align: middle;\n",
              "    }\n",
              "\n",
              "    .dataframe tbody tr th {\n",
              "        vertical-align: top;\n",
              "    }\n",
              "\n",
              "    .dataframe thead th {\n",
              "        text-align: right;\n",
              "    }\n",
              "</style>\n",
              "<table border=\"1\" class=\"dataframe\">\n",
              "  <thead>\n",
              "    <tr style=\"text-align: right;\">\n",
              "      <th></th>\n",
              "      <th>variables</th>\n",
              "      <th>VIF</th>\n",
              "    </tr>\n",
              "  </thead>\n",
              "  <tbody>\n",
              "    <tr>\n",
              "      <th>0</th>\n",
              "      <td>Pregnancies</td>\n",
              "      <td>3.275748</td>\n",
              "    </tr>\n",
              "    <tr>\n",
              "      <th>1</th>\n",
              "      <td>Glucose</td>\n",
              "      <td>16.725078</td>\n",
              "    </tr>\n",
              "    <tr>\n",
              "      <th>2</th>\n",
              "      <td>BloodPressure</td>\n",
              "      <td>14.619512</td>\n",
              "    </tr>\n",
              "    <tr>\n",
              "      <th>3</th>\n",
              "      <td>SkinThickness</td>\n",
              "      <td>4.008696</td>\n",
              "    </tr>\n",
              "    <tr>\n",
              "      <th>4</th>\n",
              "      <td>Insulin</td>\n",
              "      <td>2.063689</td>\n",
              "    </tr>\n",
              "    <tr>\n",
              "      <th>5</th>\n",
              "      <td>BMI</td>\n",
              "      <td>18.408884</td>\n",
              "    </tr>\n",
              "    <tr>\n",
              "      <th>6</th>\n",
              "      <td>DiabetesPedigreeFunction</td>\n",
              "      <td>3.195626</td>\n",
              "    </tr>\n",
              "    <tr>\n",
              "      <th>7</th>\n",
              "      <td>Age</td>\n",
              "      <td>13.492985</td>\n",
              "    </tr>\n",
              "  </tbody>\n",
              "</table>\n",
              "</div>\n",
              "    <div class=\"colab-df-buttons\">\n",
              "\n",
              "  <div class=\"colab-df-container\">\n",
              "    <button class=\"colab-df-convert\" onclick=\"convertToInteractive('df-b02f9b32-c8a6-443d-b85d-595c5a5abe6d')\"\n",
              "            title=\"Convert this dataframe to an interactive table.\"\n",
              "            style=\"display:none;\">\n",
              "\n",
              "  <svg xmlns=\"http://www.w3.org/2000/svg\" height=\"24px\" viewBox=\"0 -960 960 960\">\n",
              "    <path d=\"M120-120v-720h720v720H120Zm60-500h600v-160H180v160Zm220 220h160v-160H400v160Zm0 220h160v-160H400v160ZM180-400h160v-160H180v160Zm440 0h160v-160H620v160ZM180-180h160v-160H180v160Zm440 0h160v-160H620v160Z\"/>\n",
              "  </svg>\n",
              "    </button>\n",
              "\n",
              "  <style>\n",
              "    .colab-df-container {\n",
              "      display:flex;\n",
              "      gap: 12px;\n",
              "    }\n",
              "\n",
              "    .colab-df-convert {\n",
              "      background-color: #E8F0FE;\n",
              "      border: none;\n",
              "      border-radius: 50%;\n",
              "      cursor: pointer;\n",
              "      display: none;\n",
              "      fill: #1967D2;\n",
              "      height: 32px;\n",
              "      padding: 0 0 0 0;\n",
              "      width: 32px;\n",
              "    }\n",
              "\n",
              "    .colab-df-convert:hover {\n",
              "      background-color: #E2EBFA;\n",
              "      box-shadow: 0px 1px 2px rgba(60, 64, 67, 0.3), 0px 1px 3px 1px rgba(60, 64, 67, 0.15);\n",
              "      fill: #174EA6;\n",
              "    }\n",
              "\n",
              "    .colab-df-buttons div {\n",
              "      margin-bottom: 4px;\n",
              "    }\n",
              "\n",
              "    [theme=dark] .colab-df-convert {\n",
              "      background-color: #3B4455;\n",
              "      fill: #D2E3FC;\n",
              "    }\n",
              "\n",
              "    [theme=dark] .colab-df-convert:hover {\n",
              "      background-color: #434B5C;\n",
              "      box-shadow: 0px 1px 3px 1px rgba(0, 0, 0, 0.15);\n",
              "      filter: drop-shadow(0px 1px 2px rgba(0, 0, 0, 0.3));\n",
              "      fill: #FFFFFF;\n",
              "    }\n",
              "  </style>\n",
              "\n",
              "    <script>\n",
              "      const buttonEl =\n",
              "        document.querySelector('#df-b02f9b32-c8a6-443d-b85d-595c5a5abe6d button.colab-df-convert');\n",
              "      buttonEl.style.display =\n",
              "        google.colab.kernel.accessAllowed ? 'block' : 'none';\n",
              "\n",
              "      async function convertToInteractive(key) {\n",
              "        const element = document.querySelector('#df-b02f9b32-c8a6-443d-b85d-595c5a5abe6d');\n",
              "        const dataTable =\n",
              "          await google.colab.kernel.invokeFunction('convertToInteractive',\n",
              "                                                    [key], {});\n",
              "        if (!dataTable) return;\n",
              "\n",
              "        const docLinkHtml = 'Like what you see? Visit the ' +\n",
              "          '<a target=\"_blank\" href=https://colab.research.google.com/notebooks/data_table.ipynb>data table notebook</a>'\n",
              "          + ' to learn more about interactive tables.';\n",
              "        element.innerHTML = '';\n",
              "        dataTable['output_type'] = 'display_data';\n",
              "        await google.colab.output.renderOutput(dataTable, element);\n",
              "        const docLink = document.createElement('div');\n",
              "        docLink.innerHTML = docLinkHtml;\n",
              "        element.appendChild(docLink);\n",
              "      }\n",
              "    </script>\n",
              "  </div>\n",
              "\n",
              "\n",
              "<div id=\"df-118b3112-d9c2-4587-9a1e-fe03c8dcdb0c\">\n",
              "  <button class=\"colab-df-quickchart\" onclick=\"quickchart('df-118b3112-d9c2-4587-9a1e-fe03c8dcdb0c')\"\n",
              "            title=\"Suggest charts\"\n",
              "            style=\"display:none;\">\n",
              "\n",
              "<svg xmlns=\"http://www.w3.org/2000/svg\" height=\"24px\"viewBox=\"0 0 24 24\"\n",
              "     width=\"24px\">\n",
              "    <g>\n",
              "        <path d=\"M19 3H5c-1.1 0-2 .9-2 2v14c0 1.1.9 2 2 2h14c1.1 0 2-.9 2-2V5c0-1.1-.9-2-2-2zM9 17H7v-7h2v7zm4 0h-2V7h2v10zm4 0h-2v-4h2v4z\"/>\n",
              "    </g>\n",
              "</svg>\n",
              "  </button>\n",
              "\n",
              "<style>\n",
              "  .colab-df-quickchart {\n",
              "      --bg-color: #E8F0FE;\n",
              "      --fill-color: #1967D2;\n",
              "      --hover-bg-color: #E2EBFA;\n",
              "      --hover-fill-color: #174EA6;\n",
              "      --disabled-fill-color: #AAA;\n",
              "      --disabled-bg-color: #DDD;\n",
              "  }\n",
              "\n",
              "  [theme=dark] .colab-df-quickchart {\n",
              "      --bg-color: #3B4455;\n",
              "      --fill-color: #D2E3FC;\n",
              "      --hover-bg-color: #434B5C;\n",
              "      --hover-fill-color: #FFFFFF;\n",
              "      --disabled-bg-color: #3B4455;\n",
              "      --disabled-fill-color: #666;\n",
              "  }\n",
              "\n",
              "  .colab-df-quickchart {\n",
              "    background-color: var(--bg-color);\n",
              "    border: none;\n",
              "    border-radius: 50%;\n",
              "    cursor: pointer;\n",
              "    display: none;\n",
              "    fill: var(--fill-color);\n",
              "    height: 32px;\n",
              "    padding: 0;\n",
              "    width: 32px;\n",
              "  }\n",
              "\n",
              "  .colab-df-quickchart:hover {\n",
              "    background-color: var(--hover-bg-color);\n",
              "    box-shadow: 0 1px 2px rgba(60, 64, 67, 0.3), 0 1px 3px 1px rgba(60, 64, 67, 0.15);\n",
              "    fill: var(--button-hover-fill-color);\n",
              "  }\n",
              "\n",
              "  .colab-df-quickchart-complete:disabled,\n",
              "  .colab-df-quickchart-complete:disabled:hover {\n",
              "    background-color: var(--disabled-bg-color);\n",
              "    fill: var(--disabled-fill-color);\n",
              "    box-shadow: none;\n",
              "  }\n",
              "\n",
              "  .colab-df-spinner {\n",
              "    border: 2px solid var(--fill-color);\n",
              "    border-color: transparent;\n",
              "    border-bottom-color: var(--fill-color);\n",
              "    animation:\n",
              "      spin 1s steps(1) infinite;\n",
              "  }\n",
              "\n",
              "  @keyframes spin {\n",
              "    0% {\n",
              "      border-color: transparent;\n",
              "      border-bottom-color: var(--fill-color);\n",
              "      border-left-color: var(--fill-color);\n",
              "    }\n",
              "    20% {\n",
              "      border-color: transparent;\n",
              "      border-left-color: var(--fill-color);\n",
              "      border-top-color: var(--fill-color);\n",
              "    }\n",
              "    30% {\n",
              "      border-color: transparent;\n",
              "      border-left-color: var(--fill-color);\n",
              "      border-top-color: var(--fill-color);\n",
              "      border-right-color: var(--fill-color);\n",
              "    }\n",
              "    40% {\n",
              "      border-color: transparent;\n",
              "      border-right-color: var(--fill-color);\n",
              "      border-top-color: var(--fill-color);\n",
              "    }\n",
              "    60% {\n",
              "      border-color: transparent;\n",
              "      border-right-color: var(--fill-color);\n",
              "    }\n",
              "    80% {\n",
              "      border-color: transparent;\n",
              "      border-right-color: var(--fill-color);\n",
              "      border-bottom-color: var(--fill-color);\n",
              "    }\n",
              "    90% {\n",
              "      border-color: transparent;\n",
              "      border-bottom-color: var(--fill-color);\n",
              "    }\n",
              "  }\n",
              "</style>\n",
              "\n",
              "  <script>\n",
              "    async function quickchart(key) {\n",
              "      const quickchartButtonEl =\n",
              "        document.querySelector('#' + key + ' button');\n",
              "      quickchartButtonEl.disabled = true;  // To prevent multiple clicks.\n",
              "      quickchartButtonEl.classList.add('colab-df-spinner');\n",
              "      try {\n",
              "        const charts = await google.colab.kernel.invokeFunction(\n",
              "            'suggestCharts', [key], {});\n",
              "      } catch (error) {\n",
              "        console.error('Error during call to suggestCharts:', error);\n",
              "      }\n",
              "      quickchartButtonEl.classList.remove('colab-df-spinner');\n",
              "      quickchartButtonEl.classList.add('colab-df-quickchart-complete');\n",
              "    }\n",
              "    (() => {\n",
              "      let quickchartButtonEl =\n",
              "        document.querySelector('#df-118b3112-d9c2-4587-9a1e-fe03c8dcdb0c button');\n",
              "      quickchartButtonEl.style.display =\n",
              "        google.colab.kernel.accessAllowed ? 'block' : 'none';\n",
              "    })();\n",
              "  </script>\n",
              "</div>\n",
              "\n",
              "    </div>\n",
              "  </div>\n"
            ]
          },
          "metadata": {},
          "execution_count": 174
        }
      ]
    },
    {
      "cell_type": "markdown",
      "source": [
        "## FE"
      ],
      "metadata": {
        "id": "3O6_9OxZb__-"
      },
      "id": "3O6_9OxZb__-"
    },
    {
      "cell_type": "code",
      "source": [
        "df_copy = df.copy()\n",
        "\n",
        "X = df_copy[x_columns]\n",
        "y = df_copy['Outcome']\n",
        "\n",
        "train_X, test_X, train_y, test_y = train_test_split(X, y, stratify = y, test_size = 0.2, random_state = 123)"
      ],
      "metadata": {
        "id": "-CoqjAypca96"
      },
      "id": "-CoqjAypca96",
      "execution_count": 175,
      "outputs": []
    },
    {
      "cell_type": "markdown",
      "source": [
        "* Glucose, BMI, Insulin, BloodPressure, SkinThickness 변수에서 0이 나타남을 볼 수 있음\n",
        "> 상식적으로 해당 변수들에서 수치가 0이 나오는 것은 말이 되지 않기 때문에 처리가 필요            "
      ],
      "metadata": {
        "id": "Q17Aon_3cOls"
      },
      "id": "Q17Aon_3cOls"
    },
    {
      "cell_type": "code",
      "source": [
        "train_X_copy = train_X.copy(deep = True)\n",
        "train_X_copy[['Glucose','BloodPressure','SkinThickness','Insulin','BMI']] = train_X_copy[['Glucose','BloodPressure','SkinThickness','Insulin','BMI']].replace(0,np.NaN)\n",
        "\n",
        "test_X_copy = test_X.copy(deep = True)\n",
        "test_X_copy[['Glucose','BloodPressure','SkinThickness','Insulin','BMI']] = test_X_copy[['Glucose','BloodPressure','SkinThickness','Insulin','BMI']].replace(0,np.NaN)\n",
        "\n",
        "print(train_X_copy.isnull().sum())\n",
        "print('*'*30)\n",
        "print(test_X_copy.isnull().sum())"
      ],
      "metadata": {
        "colab": {
          "base_uri": "https://localhost:8080/"
        },
        "id": "kXIGVVEmncyv",
        "outputId": "b6847bf1-3a53-4c9a-e1bd-0bfb414360b0"
      },
      "id": "kXIGVVEmncyv",
      "execution_count": 176,
      "outputs": [
        {
          "output_type": "stream",
          "name": "stdout",
          "text": [
            "Pregnancies                   0\n",
            "Glucose                       3\n",
            "BloodPressure                28\n",
            "SkinThickness               186\n",
            "Insulin                     300\n",
            "BMI                          11\n",
            "DiabetesPedigreeFunction      0\n",
            "Age                           0\n",
            "dtype: int64\n",
            "******************************\n",
            "Pregnancies                  0\n",
            "Glucose                      2\n",
            "BloodPressure                7\n",
            "SkinThickness               41\n",
            "Insulin                     74\n",
            "BMI                          0\n",
            "DiabetesPedigreeFunction     0\n",
            "Age                          0\n",
            "dtype: int64\n"
          ]
        }
      ]
    },
    {
      "cell_type": "markdown",
      "source": [
        "Glucose, BMI, BloodPreasure는 0인 값이 적으므로 각 변수들의 평균값으로 대체하기로 결정"
      ],
      "metadata": {
        "id": "_M1CwwYen8i0"
      },
      "id": "_M1CwwYen8i0"
    },
    {
      "cell_type": "code",
      "source": [
        "train_X[['Glucose','BloodPressure','BMI']] = train_X[['Glucose','BloodPressure','BMI']].replace(0,np.NaN)\n",
        "\n",
        "train_X['Glucose'].fillna(train_X['Glucose'].mean(), inplace = True)\n",
        "train_X['BloodPressure'].fillna(train_X['BloodPressure'].mean(), inplace = True)\n",
        "train_X['BMI'].fillna(train_X['BMI'].mean(), inplace = True)"
      ],
      "metadata": {
        "id": "Z-W3xOuMoYz8"
      },
      "id": "Z-W3xOuMoYz8",
      "execution_count": 177,
      "outputs": []
    },
    {
      "cell_type": "code",
      "source": [
        "test_X[['Glucose','BloodPressure','BMI']] = test_X[['Glucose','BloodPressure','BMI']].replace(0,np.NaN)\n",
        "\n",
        "test_X['Glucose'].fillna(test_X['Glucose'].mean(), inplace = True)\n",
        "test_X['BloodPressure'].fillna(test_X['BloodPressure'].mean(), inplace = True)\n",
        "test_X['BMI'].fillna(test_X['BMI'].mean(), inplace = True)"
      ],
      "metadata": {
        "id": "ev1ImKnUoYxX"
      },
      "id": "ev1ImKnUoYxX",
      "execution_count": 178,
      "outputs": []
    },
    {
      "cell_type": "code",
      "source": [
        "train_X_copy = train_X.copy(deep = True)\n",
        "train_X_copy[['Glucose','BloodPressure','SkinThickness','Insulin','BMI']] = train_X_copy[['Glucose','BloodPressure','SkinThickness','Insulin','BMI']].replace(0,np.NaN)\n",
        "\n",
        "test_X_copy = test_X.copy(deep = True)\n",
        "test_X_copy[['Glucose','BloodPressure','SkinThickness','Insulin','BMI']] = test_X_copy[['Glucose','BloodPressure','SkinThickness','Insulin','BMI']].replace(0,np.NaN)\n",
        "\n",
        "print(train_X_copy.isnull().sum())\n",
        "print('*'*30)\n",
        "print(test_X_copy.isnull().sum())"
      ],
      "metadata": {
        "colab": {
          "base_uri": "https://localhost:8080/"
        },
        "id": "i2J7ocu9oYkg",
        "outputId": "a679e1d3-b720-46fe-a01f-92ebc907cbdb"
      },
      "id": "i2J7ocu9oYkg",
      "execution_count": 179,
      "outputs": [
        {
          "output_type": "stream",
          "name": "stdout",
          "text": [
            "Pregnancies                   0\n",
            "Glucose                       0\n",
            "BloodPressure                 0\n",
            "SkinThickness               186\n",
            "Insulin                     300\n",
            "BMI                           0\n",
            "DiabetesPedigreeFunction      0\n",
            "Age                           0\n",
            "dtype: int64\n",
            "******************************\n",
            "Pregnancies                  0\n",
            "Glucose                      0\n",
            "BloodPressure                0\n",
            "SkinThickness               41\n",
            "Insulin                     74\n",
            "BMI                          0\n",
            "DiabetesPedigreeFunction     0\n",
            "Age                          0\n",
            "dtype: int64\n"
          ]
        }
      ]
    },
    {
      "cell_type": "markdown",
      "source": [
        "* 인슐린과 SkinThickness는 각각 해당 변수를 제외하고 예측해 값을 채우기로 결정"
      ],
      "metadata": {
        "id": "68xFVahiqI87"
      },
      "id": "68xFVahiqI87"
    },
    {
      "cell_type": "code",
      "source": [
        "#인슐린 채우기\n",
        "\n",
        "non_zero = train_X[train_X['Insulin']>0]\n",
        "non_zero = non_zero.drop(columns = 'SkinThickness')"
      ],
      "metadata": {
        "id": "7nUJZKGAq1kf"
      },
      "id": "7nUJZKGAq1kf",
      "execution_count": 180,
      "outputs": []
    },
    {
      "cell_type": "code",
      "source": [
        "non_zero_x = non_zero.drop(columns = 'Insulin')\n",
        "non_zero_y = non_zero['Insulin']"
      ],
      "metadata": {
        "id": "kQPENPfArs6M"
      },
      "id": "kQPENPfArs6M",
      "execution_count": 181,
      "outputs": []
    },
    {
      "cell_type": "code",
      "source": [
        "from sklearn.tree import DecisionTreeRegressor\n",
        "from sklearn.model_selection import KFold, GridSearchCV"
      ],
      "metadata": {
        "id": "p77xlRlQqb4t"
      },
      "id": "p77xlRlQqb4t",
      "execution_count": 182,
      "outputs": []
    },
    {
      "cell_type": "code",
      "source": [
        "dtr = DecisionTreeRegressor(random_state = 123)\n",
        "kf = KFold(n_splits = 5, shuffle = True, random_state = 123)"
      ],
      "metadata": {
        "id": "OkT3ran9qbxV"
      },
      "id": "OkT3ran9qbxV",
      "execution_count": 184,
      "outputs": []
    },
    {
      "cell_type": "code",
      "source": [
        "param_grid = {\n",
        "    'max_depth': range(3,10),\n",
        "    'min_samples_split': range(2, 10),\n",
        "    'min_samples_leaf': [1, 2, 3, 4],\n",
        "    'max_leaf_nodes' : range(2, 10)\n",
        "}\n",
        "\n",
        "\n",
        "grid_search = GridSearchCV(estimator=dtr, scoring='neg_mean_absolute_error', param_grid=param_grid, cv=kf)\n",
        "\n",
        "grid_search.fit(non_zero_x, non_zero_y)\n",
        "\n",
        "print(\"Best Parameters:\", grid_search.best_params_)\n",
        "print(\"Best CV Score:\", grid_search.best_score_)"
      ],
      "metadata": {
        "colab": {
          "base_uri": "https://localhost:8080/"
        },
        "id": "p_MIIT_lqbtK",
        "outputId": "36c5e7fb-ac8d-4f60-eafe-3fce9eda52d8"
      },
      "id": "p_MIIT_lqbtK",
      "execution_count": 185,
      "outputs": [
        {
          "output_type": "stream",
          "name": "stdout",
          "text": [
            "Best Parameters: {'max_depth': 3, 'max_leaf_nodes': 8, 'min_samples_leaf': 4, 'min_samples_split': 9}\n",
            "Best CV Score: -68.34009740052093\n"
          ]
        }
      ]
    },
    {
      "cell_type": "code",
      "source": [
        "insulin_dtr = grid_search.best_estimator_\n",
        "insulin_dtr.fit(non_zero_x, non_zero_y)"
      ],
      "metadata": {
        "colab": {
          "base_uri": "https://localhost:8080/",
          "height": 92
        },
        "id": "T43JCRt4qbpv",
        "outputId": "5741bca7-ea36-4dca-cb48-2292d6c085e7"
      },
      "id": "T43JCRt4qbpv",
      "execution_count": 186,
      "outputs": [
        {
          "output_type": "execute_result",
          "data": {
            "text/plain": [
              "DecisionTreeRegressor(max_depth=3, max_leaf_nodes=8, min_samples_leaf=4,\n",
              "                      min_samples_split=9, random_state=123)"
            ],
            "text/html": [
              "<style>#sk-container-id-2 {color: black;background-color: white;}#sk-container-id-2 pre{padding: 0;}#sk-container-id-2 div.sk-toggleable {background-color: white;}#sk-container-id-2 label.sk-toggleable__label {cursor: pointer;display: block;width: 100%;margin-bottom: 0;padding: 0.3em;box-sizing: border-box;text-align: center;}#sk-container-id-2 label.sk-toggleable__label-arrow:before {content: \"▸\";float: left;margin-right: 0.25em;color: #696969;}#sk-container-id-2 label.sk-toggleable__label-arrow:hover:before {color: black;}#sk-container-id-2 div.sk-estimator:hover label.sk-toggleable__label-arrow:before {color: black;}#sk-container-id-2 div.sk-toggleable__content {max-height: 0;max-width: 0;overflow: hidden;text-align: left;background-color: #f0f8ff;}#sk-container-id-2 div.sk-toggleable__content pre {margin: 0.2em;color: black;border-radius: 0.25em;background-color: #f0f8ff;}#sk-container-id-2 input.sk-toggleable__control:checked~div.sk-toggleable__content {max-height: 200px;max-width: 100%;overflow: auto;}#sk-container-id-2 input.sk-toggleable__control:checked~label.sk-toggleable__label-arrow:before {content: \"▾\";}#sk-container-id-2 div.sk-estimator input.sk-toggleable__control:checked~label.sk-toggleable__label {background-color: #d4ebff;}#sk-container-id-2 div.sk-label input.sk-toggleable__control:checked~label.sk-toggleable__label {background-color: #d4ebff;}#sk-container-id-2 input.sk-hidden--visually {border: 0;clip: rect(1px 1px 1px 1px);clip: rect(1px, 1px, 1px, 1px);height: 1px;margin: -1px;overflow: hidden;padding: 0;position: absolute;width: 1px;}#sk-container-id-2 div.sk-estimator {font-family: monospace;background-color: #f0f8ff;border: 1px dotted black;border-radius: 0.25em;box-sizing: border-box;margin-bottom: 0.5em;}#sk-container-id-2 div.sk-estimator:hover {background-color: #d4ebff;}#sk-container-id-2 div.sk-parallel-item::after {content: \"\";width: 100%;border-bottom: 1px solid gray;flex-grow: 1;}#sk-container-id-2 div.sk-label:hover label.sk-toggleable__label {background-color: #d4ebff;}#sk-container-id-2 div.sk-serial::before {content: \"\";position: absolute;border-left: 1px solid gray;box-sizing: border-box;top: 0;bottom: 0;left: 50%;z-index: 0;}#sk-container-id-2 div.sk-serial {display: flex;flex-direction: column;align-items: center;background-color: white;padding-right: 0.2em;padding-left: 0.2em;position: relative;}#sk-container-id-2 div.sk-item {position: relative;z-index: 1;}#sk-container-id-2 div.sk-parallel {display: flex;align-items: stretch;justify-content: center;background-color: white;position: relative;}#sk-container-id-2 div.sk-item::before, #sk-container-id-2 div.sk-parallel-item::before {content: \"\";position: absolute;border-left: 1px solid gray;box-sizing: border-box;top: 0;bottom: 0;left: 50%;z-index: -1;}#sk-container-id-2 div.sk-parallel-item {display: flex;flex-direction: column;z-index: 1;position: relative;background-color: white;}#sk-container-id-2 div.sk-parallel-item:first-child::after {align-self: flex-end;width: 50%;}#sk-container-id-2 div.sk-parallel-item:last-child::after {align-self: flex-start;width: 50%;}#sk-container-id-2 div.sk-parallel-item:only-child::after {width: 0;}#sk-container-id-2 div.sk-dashed-wrapped {border: 1px dashed gray;margin: 0 0.4em 0.5em 0.4em;box-sizing: border-box;padding-bottom: 0.4em;background-color: white;}#sk-container-id-2 div.sk-label label {font-family: monospace;font-weight: bold;display: inline-block;line-height: 1.2em;}#sk-container-id-2 div.sk-label-container {text-align: center;}#sk-container-id-2 div.sk-container {/* jupyter's `normalize.less` sets `[hidden] { display: none; }` but bootstrap.min.css set `[hidden] { display: none !important; }` so we also need the `!important` here to be able to override the default hidden behavior on the sphinx rendered scikit-learn.org. See: https://github.com/scikit-learn/scikit-learn/issues/21755 */display: inline-block !important;position: relative;}#sk-container-id-2 div.sk-text-repr-fallback {display: none;}</style><div id=\"sk-container-id-2\" class=\"sk-top-container\"><div class=\"sk-text-repr-fallback\"><pre>DecisionTreeRegressor(max_depth=3, max_leaf_nodes=8, min_samples_leaf=4,\n",
              "                      min_samples_split=9, random_state=123)</pre><b>In a Jupyter environment, please rerun this cell to show the HTML representation or trust the notebook. <br />On GitHub, the HTML representation is unable to render, please try loading this page with nbviewer.org.</b></div><div class=\"sk-container\" hidden><div class=\"sk-item\"><div class=\"sk-estimator sk-toggleable\"><input class=\"sk-toggleable__control sk-hidden--visually\" id=\"sk-estimator-id-2\" type=\"checkbox\" checked><label for=\"sk-estimator-id-2\" class=\"sk-toggleable__label sk-toggleable__label-arrow\">DecisionTreeRegressor</label><div class=\"sk-toggleable__content\"><pre>DecisionTreeRegressor(max_depth=3, max_leaf_nodes=8, min_samples_leaf=4,\n",
              "                      min_samples_split=9, random_state=123)</pre></div></div></div></div></div>"
            ]
          },
          "metadata": {},
          "execution_count": 186
        }
      ]
    },
    {
      "cell_type": "code",
      "source": [
        "insulin_zero = train_X[train_X['Insulin'] == 0]\n",
        "\n",
        "X_predict = insulin_zero.drop(columns = ['Insulin', 'SkinThickness'])\n",
        "\n",
        "predicted_values = insulin_dtr.predict(X_predict)"
      ],
      "metadata": {
        "id": "fBBdfV7uzJKB"
      },
      "id": "fBBdfV7uzJKB",
      "execution_count": 187,
      "outputs": []
    },
    {
      "cell_type": "code",
      "source": [
        "predicted_values"
      ],
      "metadata": {
        "colab": {
          "base_uri": "https://localhost:8080/"
        },
        "id": "91lRWOlCAjKX",
        "outputId": "6c840ef6-4a27-4d9b-b6a9-fe6397d53dca"
      },
      "id": "91lRWOlCAjKX",
      "execution_count": 188,
      "outputs": [
        {
          "output_type": "execute_result",
          "data": {
            "text/plain": [
              "array([ 53.52631579,  53.52631579, 184.30927835, 184.30927835,\n",
              "       134.88461538, 184.30927835, 134.88461538, 134.88461538,\n",
              "       134.88461538,  96.27027027, 134.88461538, 184.30927835,\n",
              "        96.27027027, 134.88461538, 264.44827586,  53.52631579,\n",
              "       134.88461538, 184.30927835,  96.27027027,  53.52631579,\n",
              "       134.88461538,  96.27027027,  53.52631579, 184.30927835,\n",
              "       134.88461538, 184.30927835, 134.88461538, 134.88461538,\n",
              "       134.88461538, 480.8       ,  96.27027027, 134.88461538,\n",
              "       134.88461538,  96.27027027, 134.88461538, 184.30927835,\n",
              "       264.44827586, 134.88461538, 264.44827586, 184.30927835,\n",
              "       134.88461538, 184.30927835,  53.52631579, 184.30927835,\n",
              "        96.27027027,  53.52631579, 134.88461538, 184.30927835,\n",
              "       134.88461538,  53.52631579,  96.27027027, 184.30927835,\n",
              "       184.30927835, 134.88461538, 134.88461538, 264.44827586,\n",
              "       264.44827586, 134.88461538, 134.88461538, 134.88461538,\n",
              "       184.30927835, 134.88461538, 184.30927835, 292.2       ,\n",
              "        53.52631579, 134.88461538,  53.52631579,  96.27027027,\n",
              "       184.30927835,  53.52631579, 184.30927835, 292.2       ,\n",
              "        96.27027027, 134.88461538, 292.2       ,  96.27027027,\n",
              "        53.52631579, 134.88461538,  53.52631579, 134.88461538,\n",
              "       134.88461538, 184.30927835, 184.30927835, 292.2       ,\n",
              "       134.88461538, 184.30927835, 134.88461538, 184.30927835,\n",
              "       134.88461538, 134.88461538, 134.88461538,  53.52631579,\n",
              "       184.30927835,  53.52631579, 264.44827586, 264.44827586,\n",
              "        53.52631579,  53.52631579, 184.30927835, 292.2       ,\n",
              "       134.88461538,  96.27027027, 184.30927835, 184.30927835,\n",
              "       134.88461538, 184.30927835, 134.88461538,  53.52631579,\n",
              "       184.30927835, 184.30927835, 184.30927835, 184.30927835,\n",
              "        96.27027027,  96.27027027, 134.88461538, 264.44827586,\n",
              "        96.27027027, 184.30927835, 480.8       , 184.30927835,\n",
              "       184.30927835, 184.30927835, 184.30927835, 134.88461538,\n",
              "       184.30927835, 184.30927835,  96.27027027, 264.44827586,\n",
              "       264.44827586, 264.44827586,  96.27027027, 292.2       ,\n",
              "        53.52631579,  53.52631579, 134.88461538,  53.52631579,\n",
              "        96.27027027, 184.30927835, 480.8       , 264.44827586,\n",
              "       134.88461538, 134.88461538, 134.88461538,  96.27027027,\n",
              "        96.27027027, 184.30927835, 184.30927835, 480.8       ,\n",
              "        96.27027027, 184.30927835, 184.30927835, 184.30927835,\n",
              "        96.27027027,  96.27027027,  53.52631579, 134.88461538,\n",
              "        96.27027027, 134.88461538, 184.30927835, 184.30927835,\n",
              "       184.30927835, 264.44827586,  53.52631579, 264.44827586,\n",
              "       134.88461538,  96.27027027, 264.44827586, 184.30927835,\n",
              "        53.52631579,  96.27027027, 134.88461538, 184.30927835,\n",
              "       134.88461538,  96.27027027, 184.30927835, 184.30927835,\n",
              "        96.27027027, 184.30927835,  96.27027027, 480.8       ,\n",
              "       184.30927835, 264.44827586, 134.88461538, 184.30927835,\n",
              "        96.27027027, 134.88461538, 184.30927835, 480.8       ,\n",
              "       134.88461538,  53.52631579, 184.30927835, 134.88461538,\n",
              "        53.52631579, 264.44827586,  53.52631579, 184.30927835,\n",
              "       134.88461538, 184.30927835,  96.27027027, 184.30927835,\n",
              "       292.2       ,  53.52631579, 184.30927835, 134.88461538,\n",
              "       184.30927835, 184.30927835, 184.30927835,  96.27027027,\n",
              "       184.30927835, 134.88461538, 264.44827586, 264.44827586,\n",
              "       292.2       ,  96.27027027,  96.27027027, 184.30927835,\n",
              "       134.88461538,  53.52631579,  53.52631579, 264.44827586,\n",
              "       134.88461538, 134.88461538, 264.44827586,  96.27027027,\n",
              "        53.52631579, 184.30927835, 264.44827586,  96.27027027,\n",
              "        96.27027027, 134.88461538, 184.30927835,  53.52631579,\n",
              "       134.88461538,  96.27027027, 264.44827586, 134.88461538,\n",
              "       134.88461538, 184.30927835, 184.30927835, 184.30927835,\n",
              "       134.88461538, 184.30927835, 184.30927835, 184.30927835,\n",
              "       184.30927835,  53.52631579, 184.30927835, 184.30927835,\n",
              "       264.44827586,  96.27027027,  96.27027027,  53.52631579,\n",
              "        96.27027027, 134.88461538, 134.88461538, 264.44827586,\n",
              "        96.27027027,  53.52631579, 184.30927835, 134.88461538,\n",
              "        96.27027027, 264.44827586, 134.88461538, 292.2       ,\n",
              "        84.75      ,  53.52631579, 134.88461538,  96.27027027,\n",
              "       264.44827586, 134.88461538, 134.88461538,  96.27027027,\n",
              "       264.44827586, 184.30927835, 184.30927835,  53.52631579,\n",
              "       264.44827586,  96.27027027,  96.27027027, 134.88461538,\n",
              "       184.30927835, 264.44827586, 184.30927835,  96.27027027,\n",
              "        53.52631579,  53.52631579, 134.88461538,  53.52631579,\n",
              "       134.88461538, 184.30927835, 184.30927835, 292.2       ,\n",
              "       134.88461538, 264.44827586, 184.30927835, 480.8       ,\n",
              "       184.30927835, 134.88461538, 184.30927835,  96.27027027])"
            ]
          },
          "metadata": {},
          "execution_count": 188
        }
      ]
    },
    {
      "cell_type": "code",
      "source": [
        "train_X.loc[train_X['Insulin'] == 0,'Insulin'] = predicted_values"
      ],
      "metadata": {
        "id": "fw4_laGpzRUn"
      },
      "id": "fw4_laGpzRUn",
      "execution_count": 189,
      "outputs": []
    },
    {
      "cell_type": "code",
      "source": [
        "train_X['Insulin'].value_counts()"
      ],
      "metadata": {
        "colab": {
          "base_uri": "https://localhost:8080/"
        },
        "id": "NQWxHi3yDJfQ",
        "outputId": "d6c3652f-caea-4b8d-faa4-a577063c336b"
      },
      "id": "NQWxHi3yDJfQ",
      "execution_count": 190,
      "outputs": [
        {
          "output_type": "execute_result",
          "data": {
            "text/plain": [
              "184.309278    86\n",
              "134.884615    76\n",
              "96.270270     49\n",
              "53.526316     40\n",
              "264.448276    31\n",
              "              ..\n",
              "22.000000      1\n",
              "108.000000     1\n",
              "392.000000     1\n",
              "402.000000     1\n",
              "144.000000     1\n",
              "Name: Insulin, Length: 173, dtype: int64"
            ]
          },
          "metadata": {},
          "execution_count": 190
        }
      ]
    },
    {
      "cell_type": "code",
      "source": [
        "#SkinThickness 채우기\n",
        "\n",
        "non_zero = train_X[train_X['SkinThickness']>0]\n",
        "non_zero = non_zero.drop(columns = 'Insulin')"
      ],
      "metadata": {
        "id": "QhZCy8JOEEqo"
      },
      "execution_count": 191,
      "outputs": [],
      "id": "QhZCy8JOEEqo"
    },
    {
      "cell_type": "code",
      "source": [
        "non_zero_x = non_zero.drop(columns = 'SkinThickness')\n",
        "non_zero_y = non_zero['SkinThickness']"
      ],
      "metadata": {
        "id": "2IchebfMEEqo"
      },
      "execution_count": 192,
      "outputs": [],
      "id": "2IchebfMEEqo"
    },
    {
      "cell_type": "code",
      "source": [
        "from sklearn.tree import DecisionTreeRegressor\n",
        "from sklearn.model_selection import KFold, GridSearchCV"
      ],
      "metadata": {
        "id": "7GpHl6IQEEqo"
      },
      "execution_count": 193,
      "outputs": [],
      "id": "7GpHl6IQEEqo"
    },
    {
      "cell_type": "code",
      "source": [
        "dtr = DecisionTreeRegressor(random_state = 123)\n",
        "kf = KFold(n_splits = 5, shuffle = True, random_state = 123)"
      ],
      "metadata": {
        "id": "kR84mRw0EEqp"
      },
      "execution_count": 194,
      "outputs": [],
      "id": "kR84mRw0EEqp"
    },
    {
      "cell_type": "code",
      "source": [
        "param_grid = {\n",
        "    'max_depth': range(3,10),\n",
        "    'min_samples_split': range(2, 10),\n",
        "    'min_samples_leaf': [1, 2, 3, 4],\n",
        "    'max_leaf_nodes' : range(2, 10)\n",
        "}\n",
        "\n",
        "\n",
        "grid_search = GridSearchCV(estimator=dtr, scoring='neg_mean_absolute_error', param_grid=param_grid, cv=kf)\n",
        "\n",
        "grid_search.fit(non_zero_x, non_zero_y)\n",
        "\n",
        "print(\"Best Parameters:\", grid_search.best_params_)\n",
        "print(\"Best CV Score:\", grid_search.best_score_)"
      ],
      "metadata": {
        "colab": {
          "base_uri": "https://localhost:8080/"
        },
        "outputId": "f0484c79-f635-45ac-bb58-186760ee1290",
        "id": "MYIojAYDEEqp"
      },
      "execution_count": 195,
      "outputs": [
        {
          "output_type": "stream",
          "name": "stdout",
          "text": [
            "Best Parameters: {'max_depth': 4, 'max_leaf_nodes': 8, 'min_samples_leaf': 4, 'min_samples_split': 9}\n",
            "Best CV Score: -6.386313741316326\n"
          ]
        }
      ],
      "id": "MYIojAYDEEqp"
    },
    {
      "cell_type": "code",
      "source": [
        "SkinThickness_dtr = grid_search.best_estimator_\n",
        "SkinThickness_dtr.fit(non_zero_x, non_zero_y)"
      ],
      "metadata": {
        "colab": {
          "base_uri": "https://localhost:8080/",
          "height": 92
        },
        "outputId": "9c8a465d-6a38-40b3-f41f-f9874331e8d2",
        "id": "4CuHZuelEEqp"
      },
      "execution_count": 196,
      "outputs": [
        {
          "output_type": "execute_result",
          "data": {
            "text/plain": [
              "DecisionTreeRegressor(max_depth=4, max_leaf_nodes=8, min_samples_leaf=4,\n",
              "                      min_samples_split=9, random_state=123)"
            ],
            "text/html": [
              "<style>#sk-container-id-3 {color: black;background-color: white;}#sk-container-id-3 pre{padding: 0;}#sk-container-id-3 div.sk-toggleable {background-color: white;}#sk-container-id-3 label.sk-toggleable__label {cursor: pointer;display: block;width: 100%;margin-bottom: 0;padding: 0.3em;box-sizing: border-box;text-align: center;}#sk-container-id-3 label.sk-toggleable__label-arrow:before {content: \"▸\";float: left;margin-right: 0.25em;color: #696969;}#sk-container-id-3 label.sk-toggleable__label-arrow:hover:before {color: black;}#sk-container-id-3 div.sk-estimator:hover label.sk-toggleable__label-arrow:before {color: black;}#sk-container-id-3 div.sk-toggleable__content {max-height: 0;max-width: 0;overflow: hidden;text-align: left;background-color: #f0f8ff;}#sk-container-id-3 div.sk-toggleable__content pre {margin: 0.2em;color: black;border-radius: 0.25em;background-color: #f0f8ff;}#sk-container-id-3 input.sk-toggleable__control:checked~div.sk-toggleable__content {max-height: 200px;max-width: 100%;overflow: auto;}#sk-container-id-3 input.sk-toggleable__control:checked~label.sk-toggleable__label-arrow:before {content: \"▾\";}#sk-container-id-3 div.sk-estimator input.sk-toggleable__control:checked~label.sk-toggleable__label {background-color: #d4ebff;}#sk-container-id-3 div.sk-label input.sk-toggleable__control:checked~label.sk-toggleable__label {background-color: #d4ebff;}#sk-container-id-3 input.sk-hidden--visually {border: 0;clip: rect(1px 1px 1px 1px);clip: rect(1px, 1px, 1px, 1px);height: 1px;margin: -1px;overflow: hidden;padding: 0;position: absolute;width: 1px;}#sk-container-id-3 div.sk-estimator {font-family: monospace;background-color: #f0f8ff;border: 1px dotted black;border-radius: 0.25em;box-sizing: border-box;margin-bottom: 0.5em;}#sk-container-id-3 div.sk-estimator:hover {background-color: #d4ebff;}#sk-container-id-3 div.sk-parallel-item::after {content: \"\";width: 100%;border-bottom: 1px solid gray;flex-grow: 1;}#sk-container-id-3 div.sk-label:hover label.sk-toggleable__label {background-color: #d4ebff;}#sk-container-id-3 div.sk-serial::before {content: \"\";position: absolute;border-left: 1px solid gray;box-sizing: border-box;top: 0;bottom: 0;left: 50%;z-index: 0;}#sk-container-id-3 div.sk-serial {display: flex;flex-direction: column;align-items: center;background-color: white;padding-right: 0.2em;padding-left: 0.2em;position: relative;}#sk-container-id-3 div.sk-item {position: relative;z-index: 1;}#sk-container-id-3 div.sk-parallel {display: flex;align-items: stretch;justify-content: center;background-color: white;position: relative;}#sk-container-id-3 div.sk-item::before, #sk-container-id-3 div.sk-parallel-item::before {content: \"\";position: absolute;border-left: 1px solid gray;box-sizing: border-box;top: 0;bottom: 0;left: 50%;z-index: -1;}#sk-container-id-3 div.sk-parallel-item {display: flex;flex-direction: column;z-index: 1;position: relative;background-color: white;}#sk-container-id-3 div.sk-parallel-item:first-child::after {align-self: flex-end;width: 50%;}#sk-container-id-3 div.sk-parallel-item:last-child::after {align-self: flex-start;width: 50%;}#sk-container-id-3 div.sk-parallel-item:only-child::after {width: 0;}#sk-container-id-3 div.sk-dashed-wrapped {border: 1px dashed gray;margin: 0 0.4em 0.5em 0.4em;box-sizing: border-box;padding-bottom: 0.4em;background-color: white;}#sk-container-id-3 div.sk-label label {font-family: monospace;font-weight: bold;display: inline-block;line-height: 1.2em;}#sk-container-id-3 div.sk-label-container {text-align: center;}#sk-container-id-3 div.sk-container {/* jupyter's `normalize.less` sets `[hidden] { display: none; }` but bootstrap.min.css set `[hidden] { display: none !important; }` so we also need the `!important` here to be able to override the default hidden behavior on the sphinx rendered scikit-learn.org. See: https://github.com/scikit-learn/scikit-learn/issues/21755 */display: inline-block !important;position: relative;}#sk-container-id-3 div.sk-text-repr-fallback {display: none;}</style><div id=\"sk-container-id-3\" class=\"sk-top-container\"><div class=\"sk-text-repr-fallback\"><pre>DecisionTreeRegressor(max_depth=4, max_leaf_nodes=8, min_samples_leaf=4,\n",
              "                      min_samples_split=9, random_state=123)</pre><b>In a Jupyter environment, please rerun this cell to show the HTML representation or trust the notebook. <br />On GitHub, the HTML representation is unable to render, please try loading this page with nbviewer.org.</b></div><div class=\"sk-container\" hidden><div class=\"sk-item\"><div class=\"sk-estimator sk-toggleable\"><input class=\"sk-toggleable__control sk-hidden--visually\" id=\"sk-estimator-id-3\" type=\"checkbox\" checked><label for=\"sk-estimator-id-3\" class=\"sk-toggleable__label sk-toggleable__label-arrow\">DecisionTreeRegressor</label><div class=\"sk-toggleable__content\"><pre>DecisionTreeRegressor(max_depth=4, max_leaf_nodes=8, min_samples_leaf=4,\n",
              "                      min_samples_split=9, random_state=123)</pre></div></div></div></div></div>"
            ]
          },
          "metadata": {},
          "execution_count": 196
        }
      ],
      "id": "4CuHZuelEEqp"
    },
    {
      "cell_type": "code",
      "source": [
        "SkinThickness_zero = train_X[train_X['SkinThickness'] == 0]\n",
        "\n",
        "X_predict = SkinThickness_zero.drop(columns = ['Insulin', 'SkinThickness'])\n",
        "\n",
        "predicted_values = SkinThickness_dtr.predict(X_predict)"
      ],
      "metadata": {
        "id": "NmTYnVu8EEqp"
      },
      "execution_count": 197,
      "outputs": [],
      "id": "NmTYnVu8EEqp"
    },
    {
      "cell_type": "code",
      "source": [
        "predicted_values"
      ],
      "metadata": {
        "colab": {
          "base_uri": "https://localhost:8080/"
        },
        "outputId": "b24564f6-d190-4e13-a033-a951bc0ff900",
        "id": "SWPL0j1fEEqp"
      },
      "execution_count": 198,
      "outputs": [
        {
          "output_type": "execute_result",
          "data": {
            "text/plain": [
              "array([24.86363636, 24.86363636, 31.86792453, 31.86792453, 29.66666667,\n",
              "       24.10526316, 24.10526316, 24.86363636, 37.69892473, 24.86363636,\n",
              "       51.        , 18.7625    , 29.66666667, 37.69892473, 29.66666667,\n",
              "       24.86363636, 37.69892473, 29.66666667, 24.86363636, 29.66666667,\n",
              "       29.66666667, 29.66666667, 29.66666667, 46.45454545, 37.69892473,\n",
              "       37.69892473, 24.86363636, 37.69892473, 24.10526316, 24.10526316,\n",
              "       24.86363636, 18.7625    , 29.66666667, 24.10526316, 31.86792453,\n",
              "       37.69892473, 37.69892473, 46.45454545, 24.86363636, 31.86792453,\n",
              "       24.10526316, 29.66666667, 18.7625    , 29.66666667, 37.69892473,\n",
              "       24.86363636, 37.69892473, 51.        , 37.69892473, 24.86363636,\n",
              "       18.7625    , 24.10526316, 29.66666667, 31.86792453, 46.45454545,\n",
              "       18.7625    , 29.66666667, 31.86792453, 18.7625    , 18.7625    ,\n",
              "       31.86792453, 24.10526316, 37.69892473, 37.69892473, 18.7625    ,\n",
              "       29.66666667, 31.86792453, 24.10526316, 37.69892473, 29.66666667,\n",
              "       29.66666667, 29.66666667, 31.86792453, 31.86792453, 31.86792453,\n",
              "       29.66666667, 37.69892473, 37.69892473, 24.10526316, 18.7625    ,\n",
              "       24.10526316, 29.66666667, 24.86363636, 31.86792453, 18.7625    ,\n",
              "       24.86363636, 46.45454545, 31.86792453, 24.10526316, 18.7625    ,\n",
              "       29.66666667, 37.69892473, 24.10526316, 29.66666667, 31.86792453,\n",
              "       24.86363636, 24.10526316, 18.7625    , 31.86792453, 24.10526316,\n",
              "       18.7625    , 18.7625    , 18.7625    , 24.86363636, 24.10526316,\n",
              "       29.66666667, 37.69892473, 46.45454545, 24.86363636, 37.69892473,\n",
              "       37.69892473, 24.10526316, 18.7625    , 31.86792453, 31.86792453,\n",
              "       37.69892473, 24.10526316, 24.10526316, 24.86363636, 29.66666667,\n",
              "       24.86363636, 29.66666667, 18.7625    , 24.10526316, 31.86792453,\n",
              "       18.7625    , 31.86792453, 37.69892473, 37.69892473, 37.69892473,\n",
              "       31.86792453, 37.69892473, 24.10526316, 24.10526316, 31.86792453,\n",
              "       29.66666667, 29.66666667, 37.69892473, 24.10526316, 24.86363636,\n",
              "       24.10526316, 18.7625    , 29.66666667, 37.69892473, 24.86363636,\n",
              "       24.10526316, 31.86792453, 24.10526316, 24.10526316, 37.69892473,\n",
              "       24.86363636, 37.69892473, 24.86363636, 24.86363636, 37.69892473,\n",
              "       18.7625    , 31.86792453, 24.86363636, 18.7625    , 18.7625    ,\n",
              "       24.86363636, 29.66666667, 37.69892473, 18.7625    , 31.86792453,\n",
              "       29.66666667, 18.7625    , 51.        , 18.7625    , 37.69892473,\n",
              "       37.69892473, 24.86363636, 18.7625    , 18.7625    , 24.10526316,\n",
              "       31.86792453, 24.10526316, 31.86792453, 18.7625    , 24.10526316,\n",
              "       24.10526316, 24.10526316, 37.69892473, 24.10526316, 18.7625    ,\n",
              "       31.86792453])"
            ]
          },
          "metadata": {},
          "execution_count": 198
        }
      ],
      "id": "SWPL0j1fEEqp"
    },
    {
      "cell_type": "code",
      "source": [
        "train_X.loc[train_X['SkinThickness'] == 0,'SkinThickness'] = predicted_values"
      ],
      "metadata": {
        "id": "hzOOLEtLEEqp"
      },
      "execution_count": 200,
      "outputs": [],
      "id": "hzOOLEtLEEqp"
    },
    {
      "cell_type": "code",
      "source": [
        "# X_test도 똑같이 채워주기"
      ],
      "metadata": {
        "id": "kloJKBFLE4qP"
      },
      "id": "kloJKBFLE4qP",
      "execution_count": null,
      "outputs": []
    },
    {
      "cell_type": "code",
      "source": [
        "test_insulin_zero = test_X[test_X['Insulin'] == 0]\n",
        "\n",
        "X_predict = test_insulin_zero.drop(columns = ['Insulin', 'SkinThickness'])\n",
        "\n",
        "predicted_values = insulin_dtr.predict(X_predict)"
      ],
      "metadata": {
        "id": "Np9Wac2CFATv"
      },
      "execution_count": 203,
      "outputs": [],
      "id": "Np9Wac2CFATv"
    },
    {
      "cell_type": "code",
      "source": [
        "predicted_values"
      ],
      "metadata": {
        "colab": {
          "base_uri": "https://localhost:8080/"
        },
        "outputId": "fe8f749e-4902-47d4-8b0f-bf93590b5c6c",
        "id": "e7DgJB95FATv"
      },
      "execution_count": 204,
      "outputs": [
        {
          "output_type": "execute_result",
          "data": {
            "text/plain": [
              "array([134.88461538,  96.27027027, 184.30927835, 184.30927835,\n",
              "        96.27027027, 134.88461538,  96.27027027,  53.52631579,\n",
              "       184.30927835, 134.88461538,  53.52631579, 184.30927835,\n",
              "       134.88461538, 134.88461538, 184.30927835,  53.52631579,\n",
              "       184.30927835,  84.75      , 184.30927835, 184.30927835,\n",
              "       184.30927835, 184.30927835, 184.30927835, 134.88461538,\n",
              "       134.88461538,  53.52631579, 184.30927835,  96.27027027,\n",
              "        53.52631579, 134.88461538, 134.88461538,  53.52631579,\n",
              "       134.88461538, 134.88461538, 134.88461538, 134.88461538,\n",
              "       134.88461538, 184.30927835, 134.88461538,  53.52631579,\n",
              "       134.88461538,  53.52631579, 184.30927835, 264.44827586,\n",
              "        96.27027027, 134.88461538, 184.30927835, 184.30927835,\n",
              "       134.88461538,  96.27027027,  96.27027027, 264.44827586,\n",
              "       264.44827586, 184.30927835, 134.88461538, 264.44827586,\n",
              "        53.52631579, 134.88461538, 134.88461538,  96.27027027,\n",
              "       480.8       , 134.88461538, 134.88461538, 184.30927835,\n",
              "       134.88461538, 184.30927835,  53.52631579, 134.88461538,\n",
              "       184.30927835, 134.88461538,  96.27027027, 184.30927835,\n",
              "       292.2       , 134.88461538])"
            ]
          },
          "metadata": {},
          "execution_count": 204
        }
      ],
      "id": "e7DgJB95FATv"
    },
    {
      "cell_type": "code",
      "source": [
        "test_X.loc[test_X['Insulin'] == 0,'Insulin'] = predicted_values"
      ],
      "metadata": {
        "id": "aW1wnP85FATv"
      },
      "execution_count": 205,
      "outputs": [],
      "id": "aW1wnP85FATv"
    },
    {
      "cell_type": "code",
      "source": [
        "test_SkinThickness_zero = test_X[test_X['SkinThickness'] == 0]\n",
        "\n",
        "X_predict = test_SkinThickness_zero.drop(columns = ['Insulin', 'SkinThickness'])\n",
        "\n",
        "predicted_values = SkinThickness_dtr.predict(X_predict)"
      ],
      "metadata": {
        "id": "7AZccR9JFATw"
      },
      "execution_count": 207,
      "outputs": [],
      "id": "7AZccR9JFATw"
    },
    {
      "cell_type": "code",
      "source": [
        "predicted_values"
      ],
      "metadata": {
        "colab": {
          "base_uri": "https://localhost:8080/"
        },
        "outputId": "c3c36e89-e8d6-4c80-a1dd-fda7870b5107",
        "id": "bXaGaxfPFATw"
      },
      "execution_count": 208,
      "outputs": [
        {
          "output_type": "execute_result",
          "data": {
            "text/plain": [
              "array([24.10526316, 24.10526316, 24.86363636, 31.86792453, 24.86363636,\n",
              "       18.7625    , 37.69892473, 29.66666667, 18.7625    , 18.7625    ,\n",
              "       24.86363636, 31.86792453, 31.86792453, 18.7625    , 24.86363636,\n",
              "       24.86363636, 31.86792453, 24.86363636, 31.86792453, 29.66666667,\n",
              "       29.66666667, 18.7625    , 18.7625    , 31.86792453, 18.7625    ,\n",
              "       31.86792453, 29.66666667, 18.7625    , 37.69892473, 24.86363636,\n",
              "       37.69892473, 31.86792453, 24.10526316, 29.66666667, 31.86792453,\n",
              "       37.69892473, 18.7625    , 31.86792453, 24.10526316, 37.69892473,\n",
              "       29.66666667])"
            ]
          },
          "metadata": {},
          "execution_count": 208
        }
      ],
      "id": "bXaGaxfPFATw"
    },
    {
      "cell_type": "code",
      "source": [
        "test_X.loc[test_X['SkinThickness'] == 0,'SkinThickness'] = predicted_values"
      ],
      "metadata": {
        "id": "N7lUFqXyFATw"
      },
      "execution_count": 209,
      "outputs": [],
      "id": "N7lUFqXyFATw"
    },
    {
      "cell_type": "code",
      "source": [
        "train_X_copy = train_X.copy(deep = True)\n",
        "train_X_copy[['Glucose','BloodPressure','SkinThickness','Insulin','BMI']] = train_X_copy[['Glucose','BloodPressure','SkinThickness','Insulin','BMI']].replace(0,np.NaN)\n",
        "\n",
        "test_X_copy = test_X.copy(deep = True)\n",
        "test_X_copy[['Glucose','BloodPressure','SkinThickness','Insulin','BMI']] = test_X_copy[['Glucose','BloodPressure','SkinThickness','Insulin','BMI']].replace(0,np.NaN)\n",
        "\n",
        "print(train_X_copy.isnull().sum())\n",
        "print('*'*30)\n",
        "print(test_X_copy.isnull().sum())"
      ],
      "metadata": {
        "colab": {
          "base_uri": "https://localhost:8080/"
        },
        "id": "Pud-f4ZJqbes",
        "outputId": "dbb13ad9-f0b2-4f87-83f3-ab0e5bc5c095"
      },
      "id": "Pud-f4ZJqbes",
      "execution_count": 210,
      "outputs": [
        {
          "output_type": "stream",
          "name": "stdout",
          "text": [
            "Pregnancies                 0\n",
            "Glucose                     0\n",
            "BloodPressure               0\n",
            "SkinThickness               0\n",
            "Insulin                     0\n",
            "BMI                         0\n",
            "DiabetesPedigreeFunction    0\n",
            "Age                         0\n",
            "dtype: int64\n",
            "******************************\n",
            "Pregnancies                 0\n",
            "Glucose                     0\n",
            "BloodPressure               0\n",
            "SkinThickness               0\n",
            "Insulin                     0\n",
            "BMI                         0\n",
            "DiabetesPedigreeFunction    0\n",
            "Age                         0\n",
            "dtype: int64\n"
          ]
        }
      ]
    },
    {
      "cell_type": "markdown",
      "source": [
        "* 0인 값이 모두 사라졌음을 알 수 있음"
      ],
      "metadata": {
        "id": "x1JPq5iCFgPk"
      },
      "id": "x1JPq5iCFgPk"
    },
    {
      "cell_type": "markdown",
      "source": [
        "* Age 변수에서 30살을 기준으로 범주화"
      ],
      "metadata": {
        "id": "gYDN2tRjgkG3"
      },
      "id": "gYDN2tRjgkG3"
    },
    {
      "cell_type": "code",
      "source": [
        "print(len(train_X[train_X['Age']<=30]))\n",
        "print(len(train_X[train_X['Age']>30]))"
      ],
      "metadata": {
        "colab": {
          "base_uri": "https://localhost:8080/"
        },
        "outputId": "0c52692b-355d-4438-e4be-4ddda40d4f57",
        "id": "7hEnvXtLga1w"
      },
      "execution_count": 211,
      "outputs": [
        {
          "output_type": "stream",
          "name": "stdout",
          "text": [
            "333\n",
            "281\n"
          ]
        }
      ],
      "id": "7hEnvXtLga1w"
    },
    {
      "cell_type": "code",
      "source": [
        "train_X['Older_Than_30'] = np.where(train_X['Age']>30, 1, 0)\n",
        "test_X['Older_Than_30'] = np.where(test_X['Age']>30, 1, 0)"
      ],
      "metadata": {
        "id": "EDQpRMpYga1x"
      },
      "execution_count": 212,
      "outputs": [],
      "id": "EDQpRMpYga1x"
    },
    {
      "cell_type": "code",
      "source": [
        "train_X['Older_Than_30'].value_counts()"
      ],
      "metadata": {
        "colab": {
          "base_uri": "https://localhost:8080/"
        },
        "outputId": "cb8ee2ee-8552-44b2-e23d-46d9cdbfd802",
        "id": "j9kUo1VNga1x"
      },
      "execution_count": 213,
      "outputs": [
        {
          "output_type": "execute_result",
          "data": {
            "text/plain": [
              "0    333\n",
              "1    281\n",
              "Name: Older_Than_30, dtype: int64"
            ]
          },
          "metadata": {},
          "execution_count": 213
        }
      ],
      "id": "j9kUo1VNga1x"
    },
    {
      "cell_type": "markdown",
      "source": [
        "* 임신횟수를 2회를 기준으로 범주화"
      ],
      "metadata": {
        "id": "w2hRYuVmnHZe"
      },
      "id": "w2hRYuVmnHZe"
    },
    {
      "cell_type": "code",
      "source": [
        "print(len(train_X[train_X['Pregnancies']>2]))\n",
        "print(len(train_X[train_X['Pregnancies']<=2]))"
      ],
      "metadata": {
        "colab": {
          "base_uri": "https://localhost:8080/"
        },
        "outputId": "18742d80-ea5b-4ae9-f83b-48d0a5e5d7a0",
        "id": "FDI2OwEQg_4l"
      },
      "execution_count": 214,
      "outputs": [
        {
          "output_type": "stream",
          "name": "stdout",
          "text": [
            "333\n",
            "281\n"
          ]
        }
      ],
      "id": "FDI2OwEQg_4l"
    },
    {
      "cell_type": "code",
      "source": [
        "train_X['Pregnancies_more_than_2'] = np.where(train_X['Pregnancies']>2, 1, 0)\n",
        "test_X['Pregnancies_more_than_2'] = np.where(test_X['Pregnancies']>2, 1, 0)"
      ],
      "metadata": {
        "id": "1xInWIQ1nPUZ"
      },
      "execution_count": 215,
      "outputs": [],
      "id": "1xInWIQ1nPUZ"
    },
    {
      "cell_type": "code",
      "source": [
        "train_X['Pregnancies_more_than_2'].value_counts()"
      ],
      "metadata": {
        "colab": {
          "base_uri": "https://localhost:8080/"
        },
        "id": "XitT6EDjcBPI",
        "outputId": "c752c01c-3568-4bef-ccb3-f6f19f20afe5"
      },
      "id": "XitT6EDjcBPI",
      "execution_count": 216,
      "outputs": [
        {
          "output_type": "execute_result",
          "data": {
            "text/plain": [
              "1    333\n",
              "0    281\n",
              "Name: Pregnancies_more_than_2, dtype: int64"
            ]
          },
          "metadata": {},
          "execution_count": 216
        }
      ]
    },
    {
      "cell_type": "code",
      "source": [
        "train_X"
      ],
      "metadata": {
        "colab": {
          "base_uri": "https://localhost:8080/",
          "height": 444
        },
        "id": "1ChfPk0zFnte",
        "outputId": "5fc81a2d-c4b3-4f69-b3b6-5e0bfbd1b17e"
      },
      "id": "1ChfPk0zFnte",
      "execution_count": 217,
      "outputs": [
        {
          "output_type": "execute_result",
          "data": {
            "text/plain": [
              "     Pregnancies  Glucose  BloodPressure  SkinThickness     Insulin   BMI  \\\n",
              "762            9     89.0           62.0      24.863636   53.526316  22.5   \n",
              "47             2     71.0           70.0      27.000000   53.526316  28.0   \n",
              "497            2     81.0           72.0      15.000000   76.000000  30.1   \n",
              "456            1    135.0           54.0      24.863636  184.309278  26.7   \n",
              "61             8    133.0           72.0      31.867925  184.309278  32.9   \n",
              "..           ...      ...            ...            ...         ...   ...   \n",
              "112            1     89.0           76.0      34.000000   37.000000  31.2   \n",
              "646            1    167.0           74.0      17.000000  144.000000  23.4   \n",
              "751            1    121.0           78.0      39.000000   74.000000  39.0   \n",
              "79             2    112.0           66.0      22.000000   96.270270  25.0   \n",
              "132            3    170.0           64.0      37.000000  225.000000  34.5   \n",
              "\n",
              "     DiabetesPedigreeFunction  Age  Older_Than_30  Pregnancies_more_than_2  \n",
              "762                     0.142   33              1                        1  \n",
              "47                      0.586   22              0                        0  \n",
              "497                     0.547   25              0                        0  \n",
              "456                     0.687   62              1                        0  \n",
              "61                      0.270   39              1                        1  \n",
              "..                        ...  ...            ...                      ...  \n",
              "112                     0.192   23              0                        0  \n",
              "646                     0.447   33              1                        0  \n",
              "751                     0.261   28              0                        0  \n",
              "79                      0.307   24              0                        0  \n",
              "132                     0.356   30              0                        1  \n",
              "\n",
              "[614 rows x 10 columns]"
            ],
            "text/html": [
              "\n",
              "  <div id=\"df-9d366b00-8eb3-4dbb-b71d-eda2f109dcbc\" class=\"colab-df-container\">\n",
              "    <div>\n",
              "<style scoped>\n",
              "    .dataframe tbody tr th:only-of-type {\n",
              "        vertical-align: middle;\n",
              "    }\n",
              "\n",
              "    .dataframe tbody tr th {\n",
              "        vertical-align: top;\n",
              "    }\n",
              "\n",
              "    .dataframe thead th {\n",
              "        text-align: right;\n",
              "    }\n",
              "</style>\n",
              "<table border=\"1\" class=\"dataframe\">\n",
              "  <thead>\n",
              "    <tr style=\"text-align: right;\">\n",
              "      <th></th>\n",
              "      <th>Pregnancies</th>\n",
              "      <th>Glucose</th>\n",
              "      <th>BloodPressure</th>\n",
              "      <th>SkinThickness</th>\n",
              "      <th>Insulin</th>\n",
              "      <th>BMI</th>\n",
              "      <th>DiabetesPedigreeFunction</th>\n",
              "      <th>Age</th>\n",
              "      <th>Older_Than_30</th>\n",
              "      <th>Pregnancies_more_than_2</th>\n",
              "    </tr>\n",
              "  </thead>\n",
              "  <tbody>\n",
              "    <tr>\n",
              "      <th>762</th>\n",
              "      <td>9</td>\n",
              "      <td>89.0</td>\n",
              "      <td>62.0</td>\n",
              "      <td>24.863636</td>\n",
              "      <td>53.526316</td>\n",
              "      <td>22.5</td>\n",
              "      <td>0.142</td>\n",
              "      <td>33</td>\n",
              "      <td>1</td>\n",
              "      <td>1</td>\n",
              "    </tr>\n",
              "    <tr>\n",
              "      <th>47</th>\n",
              "      <td>2</td>\n",
              "      <td>71.0</td>\n",
              "      <td>70.0</td>\n",
              "      <td>27.000000</td>\n",
              "      <td>53.526316</td>\n",
              "      <td>28.0</td>\n",
              "      <td>0.586</td>\n",
              "      <td>22</td>\n",
              "      <td>0</td>\n",
              "      <td>0</td>\n",
              "    </tr>\n",
              "    <tr>\n",
              "      <th>497</th>\n",
              "      <td>2</td>\n",
              "      <td>81.0</td>\n",
              "      <td>72.0</td>\n",
              "      <td>15.000000</td>\n",
              "      <td>76.000000</td>\n",
              "      <td>30.1</td>\n",
              "      <td>0.547</td>\n",
              "      <td>25</td>\n",
              "      <td>0</td>\n",
              "      <td>0</td>\n",
              "    </tr>\n",
              "    <tr>\n",
              "      <th>456</th>\n",
              "      <td>1</td>\n",
              "      <td>135.0</td>\n",
              "      <td>54.0</td>\n",
              "      <td>24.863636</td>\n",
              "      <td>184.309278</td>\n",
              "      <td>26.7</td>\n",
              "      <td>0.687</td>\n",
              "      <td>62</td>\n",
              "      <td>1</td>\n",
              "      <td>0</td>\n",
              "    </tr>\n",
              "    <tr>\n",
              "      <th>61</th>\n",
              "      <td>8</td>\n",
              "      <td>133.0</td>\n",
              "      <td>72.0</td>\n",
              "      <td>31.867925</td>\n",
              "      <td>184.309278</td>\n",
              "      <td>32.9</td>\n",
              "      <td>0.270</td>\n",
              "      <td>39</td>\n",
              "      <td>1</td>\n",
              "      <td>1</td>\n",
              "    </tr>\n",
              "    <tr>\n",
              "      <th>...</th>\n",
              "      <td>...</td>\n",
              "      <td>...</td>\n",
              "      <td>...</td>\n",
              "      <td>...</td>\n",
              "      <td>...</td>\n",
              "      <td>...</td>\n",
              "      <td>...</td>\n",
              "      <td>...</td>\n",
              "      <td>...</td>\n",
              "      <td>...</td>\n",
              "    </tr>\n",
              "    <tr>\n",
              "      <th>112</th>\n",
              "      <td>1</td>\n",
              "      <td>89.0</td>\n",
              "      <td>76.0</td>\n",
              "      <td>34.000000</td>\n",
              "      <td>37.000000</td>\n",
              "      <td>31.2</td>\n",
              "      <td>0.192</td>\n",
              "      <td>23</td>\n",
              "      <td>0</td>\n",
              "      <td>0</td>\n",
              "    </tr>\n",
              "    <tr>\n",
              "      <th>646</th>\n",
              "      <td>1</td>\n",
              "      <td>167.0</td>\n",
              "      <td>74.0</td>\n",
              "      <td>17.000000</td>\n",
              "      <td>144.000000</td>\n",
              "      <td>23.4</td>\n",
              "      <td>0.447</td>\n",
              "      <td>33</td>\n",
              "      <td>1</td>\n",
              "      <td>0</td>\n",
              "    </tr>\n",
              "    <tr>\n",
              "      <th>751</th>\n",
              "      <td>1</td>\n",
              "      <td>121.0</td>\n",
              "      <td>78.0</td>\n",
              "      <td>39.000000</td>\n",
              "      <td>74.000000</td>\n",
              "      <td>39.0</td>\n",
              "      <td>0.261</td>\n",
              "      <td>28</td>\n",
              "      <td>0</td>\n",
              "      <td>0</td>\n",
              "    </tr>\n",
              "    <tr>\n",
              "      <th>79</th>\n",
              "      <td>2</td>\n",
              "      <td>112.0</td>\n",
              "      <td>66.0</td>\n",
              "      <td>22.000000</td>\n",
              "      <td>96.270270</td>\n",
              "      <td>25.0</td>\n",
              "      <td>0.307</td>\n",
              "      <td>24</td>\n",
              "      <td>0</td>\n",
              "      <td>0</td>\n",
              "    </tr>\n",
              "    <tr>\n",
              "      <th>132</th>\n",
              "      <td>3</td>\n",
              "      <td>170.0</td>\n",
              "      <td>64.0</td>\n",
              "      <td>37.000000</td>\n",
              "      <td>225.000000</td>\n",
              "      <td>34.5</td>\n",
              "      <td>0.356</td>\n",
              "      <td>30</td>\n",
              "      <td>0</td>\n",
              "      <td>1</td>\n",
              "    </tr>\n",
              "  </tbody>\n",
              "</table>\n",
              "<p>614 rows × 10 columns</p>\n",
              "</div>\n",
              "    <div class=\"colab-df-buttons\">\n",
              "\n",
              "  <div class=\"colab-df-container\">\n",
              "    <button class=\"colab-df-convert\" onclick=\"convertToInteractive('df-9d366b00-8eb3-4dbb-b71d-eda2f109dcbc')\"\n",
              "            title=\"Convert this dataframe to an interactive table.\"\n",
              "            style=\"display:none;\">\n",
              "\n",
              "  <svg xmlns=\"http://www.w3.org/2000/svg\" height=\"24px\" viewBox=\"0 -960 960 960\">\n",
              "    <path d=\"M120-120v-720h720v720H120Zm60-500h600v-160H180v160Zm220 220h160v-160H400v160Zm0 220h160v-160H400v160ZM180-400h160v-160H180v160Zm440 0h160v-160H620v160ZM180-180h160v-160H180v160Zm440 0h160v-160H620v160Z\"/>\n",
              "  </svg>\n",
              "    </button>\n",
              "\n",
              "  <style>\n",
              "    .colab-df-container {\n",
              "      display:flex;\n",
              "      gap: 12px;\n",
              "    }\n",
              "\n",
              "    .colab-df-convert {\n",
              "      background-color: #E8F0FE;\n",
              "      border: none;\n",
              "      border-radius: 50%;\n",
              "      cursor: pointer;\n",
              "      display: none;\n",
              "      fill: #1967D2;\n",
              "      height: 32px;\n",
              "      padding: 0 0 0 0;\n",
              "      width: 32px;\n",
              "    }\n",
              "\n",
              "    .colab-df-convert:hover {\n",
              "      background-color: #E2EBFA;\n",
              "      box-shadow: 0px 1px 2px rgba(60, 64, 67, 0.3), 0px 1px 3px 1px rgba(60, 64, 67, 0.15);\n",
              "      fill: #174EA6;\n",
              "    }\n",
              "\n",
              "    .colab-df-buttons div {\n",
              "      margin-bottom: 4px;\n",
              "    }\n",
              "\n",
              "    [theme=dark] .colab-df-convert {\n",
              "      background-color: #3B4455;\n",
              "      fill: #D2E3FC;\n",
              "    }\n",
              "\n",
              "    [theme=dark] .colab-df-convert:hover {\n",
              "      background-color: #434B5C;\n",
              "      box-shadow: 0px 1px 3px 1px rgba(0, 0, 0, 0.15);\n",
              "      filter: drop-shadow(0px 1px 2px rgba(0, 0, 0, 0.3));\n",
              "      fill: #FFFFFF;\n",
              "    }\n",
              "  </style>\n",
              "\n",
              "    <script>\n",
              "      const buttonEl =\n",
              "        document.querySelector('#df-9d366b00-8eb3-4dbb-b71d-eda2f109dcbc button.colab-df-convert');\n",
              "      buttonEl.style.display =\n",
              "        google.colab.kernel.accessAllowed ? 'block' : 'none';\n",
              "\n",
              "      async function convertToInteractive(key) {\n",
              "        const element = document.querySelector('#df-9d366b00-8eb3-4dbb-b71d-eda2f109dcbc');\n",
              "        const dataTable =\n",
              "          await google.colab.kernel.invokeFunction('convertToInteractive',\n",
              "                                                    [key], {});\n",
              "        if (!dataTable) return;\n",
              "\n",
              "        const docLinkHtml = 'Like what you see? Visit the ' +\n",
              "          '<a target=\"_blank\" href=https://colab.research.google.com/notebooks/data_table.ipynb>data table notebook</a>'\n",
              "          + ' to learn more about interactive tables.';\n",
              "        element.innerHTML = '';\n",
              "        dataTable['output_type'] = 'display_data';\n",
              "        await google.colab.output.renderOutput(dataTable, element);\n",
              "        const docLink = document.createElement('div');\n",
              "        docLink.innerHTML = docLinkHtml;\n",
              "        element.appendChild(docLink);\n",
              "      }\n",
              "    </script>\n",
              "  </div>\n",
              "\n",
              "\n",
              "<div id=\"df-55d2252c-a55a-488c-bf30-03c3df43e5a4\">\n",
              "  <button class=\"colab-df-quickchart\" onclick=\"quickchart('df-55d2252c-a55a-488c-bf30-03c3df43e5a4')\"\n",
              "            title=\"Suggest charts\"\n",
              "            style=\"display:none;\">\n",
              "\n",
              "<svg xmlns=\"http://www.w3.org/2000/svg\" height=\"24px\"viewBox=\"0 0 24 24\"\n",
              "     width=\"24px\">\n",
              "    <g>\n",
              "        <path d=\"M19 3H5c-1.1 0-2 .9-2 2v14c0 1.1.9 2 2 2h14c1.1 0 2-.9 2-2V5c0-1.1-.9-2-2-2zM9 17H7v-7h2v7zm4 0h-2V7h2v10zm4 0h-2v-4h2v4z\"/>\n",
              "    </g>\n",
              "</svg>\n",
              "  </button>\n",
              "\n",
              "<style>\n",
              "  .colab-df-quickchart {\n",
              "      --bg-color: #E8F0FE;\n",
              "      --fill-color: #1967D2;\n",
              "      --hover-bg-color: #E2EBFA;\n",
              "      --hover-fill-color: #174EA6;\n",
              "      --disabled-fill-color: #AAA;\n",
              "      --disabled-bg-color: #DDD;\n",
              "  }\n",
              "\n",
              "  [theme=dark] .colab-df-quickchart {\n",
              "      --bg-color: #3B4455;\n",
              "      --fill-color: #D2E3FC;\n",
              "      --hover-bg-color: #434B5C;\n",
              "      --hover-fill-color: #FFFFFF;\n",
              "      --disabled-bg-color: #3B4455;\n",
              "      --disabled-fill-color: #666;\n",
              "  }\n",
              "\n",
              "  .colab-df-quickchart {\n",
              "    background-color: var(--bg-color);\n",
              "    border: none;\n",
              "    border-radius: 50%;\n",
              "    cursor: pointer;\n",
              "    display: none;\n",
              "    fill: var(--fill-color);\n",
              "    height: 32px;\n",
              "    padding: 0;\n",
              "    width: 32px;\n",
              "  }\n",
              "\n",
              "  .colab-df-quickchart:hover {\n",
              "    background-color: var(--hover-bg-color);\n",
              "    box-shadow: 0 1px 2px rgba(60, 64, 67, 0.3), 0 1px 3px 1px rgba(60, 64, 67, 0.15);\n",
              "    fill: var(--button-hover-fill-color);\n",
              "  }\n",
              "\n",
              "  .colab-df-quickchart-complete:disabled,\n",
              "  .colab-df-quickchart-complete:disabled:hover {\n",
              "    background-color: var(--disabled-bg-color);\n",
              "    fill: var(--disabled-fill-color);\n",
              "    box-shadow: none;\n",
              "  }\n",
              "\n",
              "  .colab-df-spinner {\n",
              "    border: 2px solid var(--fill-color);\n",
              "    border-color: transparent;\n",
              "    border-bottom-color: var(--fill-color);\n",
              "    animation:\n",
              "      spin 1s steps(1) infinite;\n",
              "  }\n",
              "\n",
              "  @keyframes spin {\n",
              "    0% {\n",
              "      border-color: transparent;\n",
              "      border-bottom-color: var(--fill-color);\n",
              "      border-left-color: var(--fill-color);\n",
              "    }\n",
              "    20% {\n",
              "      border-color: transparent;\n",
              "      border-left-color: var(--fill-color);\n",
              "      border-top-color: var(--fill-color);\n",
              "    }\n",
              "    30% {\n",
              "      border-color: transparent;\n",
              "      border-left-color: var(--fill-color);\n",
              "      border-top-color: var(--fill-color);\n",
              "      border-right-color: var(--fill-color);\n",
              "    }\n",
              "    40% {\n",
              "      border-color: transparent;\n",
              "      border-right-color: var(--fill-color);\n",
              "      border-top-color: var(--fill-color);\n",
              "    }\n",
              "    60% {\n",
              "      border-color: transparent;\n",
              "      border-right-color: var(--fill-color);\n",
              "    }\n",
              "    80% {\n",
              "      border-color: transparent;\n",
              "      border-right-color: var(--fill-color);\n",
              "      border-bottom-color: var(--fill-color);\n",
              "    }\n",
              "    90% {\n",
              "      border-color: transparent;\n",
              "      border-bottom-color: var(--fill-color);\n",
              "    }\n",
              "  }\n",
              "</style>\n",
              "\n",
              "  <script>\n",
              "    async function quickchart(key) {\n",
              "      const quickchartButtonEl =\n",
              "        document.querySelector('#' + key + ' button');\n",
              "      quickchartButtonEl.disabled = true;  // To prevent multiple clicks.\n",
              "      quickchartButtonEl.classList.add('colab-df-spinner');\n",
              "      try {\n",
              "        const charts = await google.colab.kernel.invokeFunction(\n",
              "            'suggestCharts', [key], {});\n",
              "      } catch (error) {\n",
              "        console.error('Error during call to suggestCharts:', error);\n",
              "      }\n",
              "      quickchartButtonEl.classList.remove('colab-df-spinner');\n",
              "      quickchartButtonEl.classList.add('colab-df-quickchart-complete');\n",
              "    }\n",
              "    (() => {\n",
              "      let quickchartButtonEl =\n",
              "        document.querySelector('#df-55d2252c-a55a-488c-bf30-03c3df43e5a4 button');\n",
              "      quickchartButtonEl.style.display =\n",
              "        google.colab.kernel.accessAllowed ? 'block' : 'none';\n",
              "    })();\n",
              "  </script>\n",
              "</div>\n",
              "\n",
              "  <div id=\"id_f44c1dc0-1444-495b-ac31-8c4ce332f7e5\">\n",
              "    <style>\n",
              "      .colab-df-generate {\n",
              "        background-color: #E8F0FE;\n",
              "        border: none;\n",
              "        border-radius: 50%;\n",
              "        cursor: pointer;\n",
              "        display: none;\n",
              "        fill: #1967D2;\n",
              "        height: 32px;\n",
              "        padding: 0 0 0 0;\n",
              "        width: 32px;\n",
              "      }\n",
              "\n",
              "      .colab-df-generate:hover {\n",
              "        background-color: #E2EBFA;\n",
              "        box-shadow: 0px 1px 2px rgba(60, 64, 67, 0.3), 0px 1px 3px 1px rgba(60, 64, 67, 0.15);\n",
              "        fill: #174EA6;\n",
              "      }\n",
              "\n",
              "      [theme=dark] .colab-df-generate {\n",
              "        background-color: #3B4455;\n",
              "        fill: #D2E3FC;\n",
              "      }\n",
              "\n",
              "      [theme=dark] .colab-df-generate:hover {\n",
              "        background-color: #434B5C;\n",
              "        box-shadow: 0px 1px 3px 1px rgba(0, 0, 0, 0.15);\n",
              "        filter: drop-shadow(0px 1px 2px rgba(0, 0, 0, 0.3));\n",
              "        fill: #FFFFFF;\n",
              "      }\n",
              "    </style>\n",
              "    <button class=\"colab-df-generate\" onclick=\"generateWithVariable('train_X')\"\n",
              "            title=\"Generate code using this dataframe.\"\n",
              "            style=\"display:none;\">\n",
              "\n",
              "  <svg xmlns=\"http://www.w3.org/2000/svg\" height=\"24px\"viewBox=\"0 0 24 24\"\n",
              "       width=\"24px\">\n",
              "    <path d=\"M7,19H8.4L18.45,9,17,7.55,7,17.6ZM5,21V16.75L18.45,3.32a2,2,0,0,1,2.83,0l1.4,1.43a1.91,1.91,0,0,1,.58,1.4,1.91,1.91,0,0,1-.58,1.4L9.25,21ZM18.45,9,17,7.55Zm-12,3A5.31,5.31,0,0,0,4.9,8.1,5.31,5.31,0,0,0,1,6.5,5.31,5.31,0,0,0,4.9,4.9,5.31,5.31,0,0,0,6.5,1,5.31,5.31,0,0,0,8.1,4.9,5.31,5.31,0,0,0,12,6.5,5.46,5.46,0,0,0,6.5,12Z\"/>\n",
              "  </svg>\n",
              "    </button>\n",
              "    <script>\n",
              "      (() => {\n",
              "      const buttonEl =\n",
              "        document.querySelector('#id_f44c1dc0-1444-495b-ac31-8c4ce332f7e5 button.colab-df-generate');\n",
              "      buttonEl.style.display =\n",
              "        google.colab.kernel.accessAllowed ? 'block' : 'none';\n",
              "\n",
              "      buttonEl.onclick = () => {\n",
              "        google.colab.notebook.generateWithVariable('train_X');\n",
              "      }\n",
              "      })();\n",
              "    </script>\n",
              "  </div>\n",
              "\n",
              "    </div>\n",
              "  </div>\n"
            ]
          },
          "metadata": {},
          "execution_count": 217
        }
      ]
    },
    {
      "cell_type": "code",
      "source": [
        "test_X"
      ],
      "metadata": {
        "colab": {
          "base_uri": "https://localhost:8080/",
          "height": 444
        },
        "id": "KtpRN9o0FqzW",
        "outputId": "7f329723-cabd-4632-c8a3-c2dca56b216d"
      },
      "id": "KtpRN9o0FqzW",
      "execution_count": 218,
      "outputs": [
        {
          "output_type": "execute_result",
          "data": {
            "text/plain": [
              "     Pregnancies  Glucose  BloodPressure  SkinThickness     Insulin   BMI  \\\n",
              "664            6    115.0           60.0           39.0  134.884615  33.7   \n",
              "752            3    108.0           62.0           24.0   96.270270  26.0   \n",
              "243            6    119.0           50.0           22.0  176.000000  27.1   \n",
              "135            2    125.0           60.0           20.0  140.000000  33.8   \n",
              "335            0    165.0           76.0           43.0  255.000000  47.9   \n",
              "..           ...      ...            ...            ...         ...   ...   \n",
              "614           11    138.0           74.0           26.0  144.000000  36.1   \n",
              "220            0    177.0           60.0           29.0  478.000000  34.6   \n",
              "493            4    125.0           70.0           18.0  122.000000  28.9   \n",
              "687            1    107.0           50.0           19.0  134.884615  28.3   \n",
              "527            3    116.0           74.0           15.0  105.000000  26.3   \n",
              "\n",
              "     DiabetesPedigreeFunction  Age  Older_Than_30  Pregnancies_more_than_2  \n",
              "664                     0.245   40              1                        1  \n",
              "752                     0.223   25              0                        1  \n",
              "243                     1.318   33              1                        1  \n",
              "135                     0.088   31              1                        0  \n",
              "335                     0.259   26              0                        0  \n",
              "..                        ...  ...            ...                      ...  \n",
              "614                     0.557   50              1                        1  \n",
              "220                     1.072   21              0                        0  \n",
              "493                     1.144   45              1                        1  \n",
              "687                     0.181   29              0                        0  \n",
              "527                     0.107   24              0                        1  \n",
              "\n",
              "[154 rows x 10 columns]"
            ],
            "text/html": [
              "\n",
              "  <div id=\"df-5876db2e-0c5d-4ee7-946a-9aaaa1be6eef\" class=\"colab-df-container\">\n",
              "    <div>\n",
              "<style scoped>\n",
              "    .dataframe tbody tr th:only-of-type {\n",
              "        vertical-align: middle;\n",
              "    }\n",
              "\n",
              "    .dataframe tbody tr th {\n",
              "        vertical-align: top;\n",
              "    }\n",
              "\n",
              "    .dataframe thead th {\n",
              "        text-align: right;\n",
              "    }\n",
              "</style>\n",
              "<table border=\"1\" class=\"dataframe\">\n",
              "  <thead>\n",
              "    <tr style=\"text-align: right;\">\n",
              "      <th></th>\n",
              "      <th>Pregnancies</th>\n",
              "      <th>Glucose</th>\n",
              "      <th>BloodPressure</th>\n",
              "      <th>SkinThickness</th>\n",
              "      <th>Insulin</th>\n",
              "      <th>BMI</th>\n",
              "      <th>DiabetesPedigreeFunction</th>\n",
              "      <th>Age</th>\n",
              "      <th>Older_Than_30</th>\n",
              "      <th>Pregnancies_more_than_2</th>\n",
              "    </tr>\n",
              "  </thead>\n",
              "  <tbody>\n",
              "    <tr>\n",
              "      <th>664</th>\n",
              "      <td>6</td>\n",
              "      <td>115.0</td>\n",
              "      <td>60.0</td>\n",
              "      <td>39.0</td>\n",
              "      <td>134.884615</td>\n",
              "      <td>33.7</td>\n",
              "      <td>0.245</td>\n",
              "      <td>40</td>\n",
              "      <td>1</td>\n",
              "      <td>1</td>\n",
              "    </tr>\n",
              "    <tr>\n",
              "      <th>752</th>\n",
              "      <td>3</td>\n",
              "      <td>108.0</td>\n",
              "      <td>62.0</td>\n",
              "      <td>24.0</td>\n",
              "      <td>96.270270</td>\n",
              "      <td>26.0</td>\n",
              "      <td>0.223</td>\n",
              "      <td>25</td>\n",
              "      <td>0</td>\n",
              "      <td>1</td>\n",
              "    </tr>\n",
              "    <tr>\n",
              "      <th>243</th>\n",
              "      <td>6</td>\n",
              "      <td>119.0</td>\n",
              "      <td>50.0</td>\n",
              "      <td>22.0</td>\n",
              "      <td>176.000000</td>\n",
              "      <td>27.1</td>\n",
              "      <td>1.318</td>\n",
              "      <td>33</td>\n",
              "      <td>1</td>\n",
              "      <td>1</td>\n",
              "    </tr>\n",
              "    <tr>\n",
              "      <th>135</th>\n",
              "      <td>2</td>\n",
              "      <td>125.0</td>\n",
              "      <td>60.0</td>\n",
              "      <td>20.0</td>\n",
              "      <td>140.000000</td>\n",
              "      <td>33.8</td>\n",
              "      <td>0.088</td>\n",
              "      <td>31</td>\n",
              "      <td>1</td>\n",
              "      <td>0</td>\n",
              "    </tr>\n",
              "    <tr>\n",
              "      <th>335</th>\n",
              "      <td>0</td>\n",
              "      <td>165.0</td>\n",
              "      <td>76.0</td>\n",
              "      <td>43.0</td>\n",
              "      <td>255.000000</td>\n",
              "      <td>47.9</td>\n",
              "      <td>0.259</td>\n",
              "      <td>26</td>\n",
              "      <td>0</td>\n",
              "      <td>0</td>\n",
              "    </tr>\n",
              "    <tr>\n",
              "      <th>...</th>\n",
              "      <td>...</td>\n",
              "      <td>...</td>\n",
              "      <td>...</td>\n",
              "      <td>...</td>\n",
              "      <td>...</td>\n",
              "      <td>...</td>\n",
              "      <td>...</td>\n",
              "      <td>...</td>\n",
              "      <td>...</td>\n",
              "      <td>...</td>\n",
              "    </tr>\n",
              "    <tr>\n",
              "      <th>614</th>\n",
              "      <td>11</td>\n",
              "      <td>138.0</td>\n",
              "      <td>74.0</td>\n",
              "      <td>26.0</td>\n",
              "      <td>144.000000</td>\n",
              "      <td>36.1</td>\n",
              "      <td>0.557</td>\n",
              "      <td>50</td>\n",
              "      <td>1</td>\n",
              "      <td>1</td>\n",
              "    </tr>\n",
              "    <tr>\n",
              "      <th>220</th>\n",
              "      <td>0</td>\n",
              "      <td>177.0</td>\n",
              "      <td>60.0</td>\n",
              "      <td>29.0</td>\n",
              "      <td>478.000000</td>\n",
              "      <td>34.6</td>\n",
              "      <td>1.072</td>\n",
              "      <td>21</td>\n",
              "      <td>0</td>\n",
              "      <td>0</td>\n",
              "    </tr>\n",
              "    <tr>\n",
              "      <th>493</th>\n",
              "      <td>4</td>\n",
              "      <td>125.0</td>\n",
              "      <td>70.0</td>\n",
              "      <td>18.0</td>\n",
              "      <td>122.000000</td>\n",
              "      <td>28.9</td>\n",
              "      <td>1.144</td>\n",
              "      <td>45</td>\n",
              "      <td>1</td>\n",
              "      <td>1</td>\n",
              "    </tr>\n",
              "    <tr>\n",
              "      <th>687</th>\n",
              "      <td>1</td>\n",
              "      <td>107.0</td>\n",
              "      <td>50.0</td>\n",
              "      <td>19.0</td>\n",
              "      <td>134.884615</td>\n",
              "      <td>28.3</td>\n",
              "      <td>0.181</td>\n",
              "      <td>29</td>\n",
              "      <td>0</td>\n",
              "      <td>0</td>\n",
              "    </tr>\n",
              "    <tr>\n",
              "      <th>527</th>\n",
              "      <td>3</td>\n",
              "      <td>116.0</td>\n",
              "      <td>74.0</td>\n",
              "      <td>15.0</td>\n",
              "      <td>105.000000</td>\n",
              "      <td>26.3</td>\n",
              "      <td>0.107</td>\n",
              "      <td>24</td>\n",
              "      <td>0</td>\n",
              "      <td>1</td>\n",
              "    </tr>\n",
              "  </tbody>\n",
              "</table>\n",
              "<p>154 rows × 10 columns</p>\n",
              "</div>\n",
              "    <div class=\"colab-df-buttons\">\n",
              "\n",
              "  <div class=\"colab-df-container\">\n",
              "    <button class=\"colab-df-convert\" onclick=\"convertToInteractive('df-5876db2e-0c5d-4ee7-946a-9aaaa1be6eef')\"\n",
              "            title=\"Convert this dataframe to an interactive table.\"\n",
              "            style=\"display:none;\">\n",
              "\n",
              "  <svg xmlns=\"http://www.w3.org/2000/svg\" height=\"24px\" viewBox=\"0 -960 960 960\">\n",
              "    <path d=\"M120-120v-720h720v720H120Zm60-500h600v-160H180v160Zm220 220h160v-160H400v160Zm0 220h160v-160H400v160ZM180-400h160v-160H180v160Zm440 0h160v-160H620v160ZM180-180h160v-160H180v160Zm440 0h160v-160H620v160Z\"/>\n",
              "  </svg>\n",
              "    </button>\n",
              "\n",
              "  <style>\n",
              "    .colab-df-container {\n",
              "      display:flex;\n",
              "      gap: 12px;\n",
              "    }\n",
              "\n",
              "    .colab-df-convert {\n",
              "      background-color: #E8F0FE;\n",
              "      border: none;\n",
              "      border-radius: 50%;\n",
              "      cursor: pointer;\n",
              "      display: none;\n",
              "      fill: #1967D2;\n",
              "      height: 32px;\n",
              "      padding: 0 0 0 0;\n",
              "      width: 32px;\n",
              "    }\n",
              "\n",
              "    .colab-df-convert:hover {\n",
              "      background-color: #E2EBFA;\n",
              "      box-shadow: 0px 1px 2px rgba(60, 64, 67, 0.3), 0px 1px 3px 1px rgba(60, 64, 67, 0.15);\n",
              "      fill: #174EA6;\n",
              "    }\n",
              "\n",
              "    .colab-df-buttons div {\n",
              "      margin-bottom: 4px;\n",
              "    }\n",
              "\n",
              "    [theme=dark] .colab-df-convert {\n",
              "      background-color: #3B4455;\n",
              "      fill: #D2E3FC;\n",
              "    }\n",
              "\n",
              "    [theme=dark] .colab-df-convert:hover {\n",
              "      background-color: #434B5C;\n",
              "      box-shadow: 0px 1px 3px 1px rgba(0, 0, 0, 0.15);\n",
              "      filter: drop-shadow(0px 1px 2px rgba(0, 0, 0, 0.3));\n",
              "      fill: #FFFFFF;\n",
              "    }\n",
              "  </style>\n",
              "\n",
              "    <script>\n",
              "      const buttonEl =\n",
              "        document.querySelector('#df-5876db2e-0c5d-4ee7-946a-9aaaa1be6eef button.colab-df-convert');\n",
              "      buttonEl.style.display =\n",
              "        google.colab.kernel.accessAllowed ? 'block' : 'none';\n",
              "\n",
              "      async function convertToInteractive(key) {\n",
              "        const element = document.querySelector('#df-5876db2e-0c5d-4ee7-946a-9aaaa1be6eef');\n",
              "        const dataTable =\n",
              "          await google.colab.kernel.invokeFunction('convertToInteractive',\n",
              "                                                    [key], {});\n",
              "        if (!dataTable) return;\n",
              "\n",
              "        const docLinkHtml = 'Like what you see? Visit the ' +\n",
              "          '<a target=\"_blank\" href=https://colab.research.google.com/notebooks/data_table.ipynb>data table notebook</a>'\n",
              "          + ' to learn more about interactive tables.';\n",
              "        element.innerHTML = '';\n",
              "        dataTable['output_type'] = 'display_data';\n",
              "        await google.colab.output.renderOutput(dataTable, element);\n",
              "        const docLink = document.createElement('div');\n",
              "        docLink.innerHTML = docLinkHtml;\n",
              "        element.appendChild(docLink);\n",
              "      }\n",
              "    </script>\n",
              "  </div>\n",
              "\n",
              "\n",
              "<div id=\"df-0ef8aae1-0866-41da-aa82-ba89e1478d60\">\n",
              "  <button class=\"colab-df-quickchart\" onclick=\"quickchart('df-0ef8aae1-0866-41da-aa82-ba89e1478d60')\"\n",
              "            title=\"Suggest charts\"\n",
              "            style=\"display:none;\">\n",
              "\n",
              "<svg xmlns=\"http://www.w3.org/2000/svg\" height=\"24px\"viewBox=\"0 0 24 24\"\n",
              "     width=\"24px\">\n",
              "    <g>\n",
              "        <path d=\"M19 3H5c-1.1 0-2 .9-2 2v14c0 1.1.9 2 2 2h14c1.1 0 2-.9 2-2V5c0-1.1-.9-2-2-2zM9 17H7v-7h2v7zm4 0h-2V7h2v10zm4 0h-2v-4h2v4z\"/>\n",
              "    </g>\n",
              "</svg>\n",
              "  </button>\n",
              "\n",
              "<style>\n",
              "  .colab-df-quickchart {\n",
              "      --bg-color: #E8F0FE;\n",
              "      --fill-color: #1967D2;\n",
              "      --hover-bg-color: #E2EBFA;\n",
              "      --hover-fill-color: #174EA6;\n",
              "      --disabled-fill-color: #AAA;\n",
              "      --disabled-bg-color: #DDD;\n",
              "  }\n",
              "\n",
              "  [theme=dark] .colab-df-quickchart {\n",
              "      --bg-color: #3B4455;\n",
              "      --fill-color: #D2E3FC;\n",
              "      --hover-bg-color: #434B5C;\n",
              "      --hover-fill-color: #FFFFFF;\n",
              "      --disabled-bg-color: #3B4455;\n",
              "      --disabled-fill-color: #666;\n",
              "  }\n",
              "\n",
              "  .colab-df-quickchart {\n",
              "    background-color: var(--bg-color);\n",
              "    border: none;\n",
              "    border-radius: 50%;\n",
              "    cursor: pointer;\n",
              "    display: none;\n",
              "    fill: var(--fill-color);\n",
              "    height: 32px;\n",
              "    padding: 0;\n",
              "    width: 32px;\n",
              "  }\n",
              "\n",
              "  .colab-df-quickchart:hover {\n",
              "    background-color: var(--hover-bg-color);\n",
              "    box-shadow: 0 1px 2px rgba(60, 64, 67, 0.3), 0 1px 3px 1px rgba(60, 64, 67, 0.15);\n",
              "    fill: var(--button-hover-fill-color);\n",
              "  }\n",
              "\n",
              "  .colab-df-quickchart-complete:disabled,\n",
              "  .colab-df-quickchart-complete:disabled:hover {\n",
              "    background-color: var(--disabled-bg-color);\n",
              "    fill: var(--disabled-fill-color);\n",
              "    box-shadow: none;\n",
              "  }\n",
              "\n",
              "  .colab-df-spinner {\n",
              "    border: 2px solid var(--fill-color);\n",
              "    border-color: transparent;\n",
              "    border-bottom-color: var(--fill-color);\n",
              "    animation:\n",
              "      spin 1s steps(1) infinite;\n",
              "  }\n",
              "\n",
              "  @keyframes spin {\n",
              "    0% {\n",
              "      border-color: transparent;\n",
              "      border-bottom-color: var(--fill-color);\n",
              "      border-left-color: var(--fill-color);\n",
              "    }\n",
              "    20% {\n",
              "      border-color: transparent;\n",
              "      border-left-color: var(--fill-color);\n",
              "      border-top-color: var(--fill-color);\n",
              "    }\n",
              "    30% {\n",
              "      border-color: transparent;\n",
              "      border-left-color: var(--fill-color);\n",
              "      border-top-color: var(--fill-color);\n",
              "      border-right-color: var(--fill-color);\n",
              "    }\n",
              "    40% {\n",
              "      border-color: transparent;\n",
              "      border-right-color: var(--fill-color);\n",
              "      border-top-color: var(--fill-color);\n",
              "    }\n",
              "    60% {\n",
              "      border-color: transparent;\n",
              "      border-right-color: var(--fill-color);\n",
              "    }\n",
              "    80% {\n",
              "      border-color: transparent;\n",
              "      border-right-color: var(--fill-color);\n",
              "      border-bottom-color: var(--fill-color);\n",
              "    }\n",
              "    90% {\n",
              "      border-color: transparent;\n",
              "      border-bottom-color: var(--fill-color);\n",
              "    }\n",
              "  }\n",
              "</style>\n",
              "\n",
              "  <script>\n",
              "    async function quickchart(key) {\n",
              "      const quickchartButtonEl =\n",
              "        document.querySelector('#' + key + ' button');\n",
              "      quickchartButtonEl.disabled = true;  // To prevent multiple clicks.\n",
              "      quickchartButtonEl.classList.add('colab-df-spinner');\n",
              "      try {\n",
              "        const charts = await google.colab.kernel.invokeFunction(\n",
              "            'suggestCharts', [key], {});\n",
              "      } catch (error) {\n",
              "        console.error('Error during call to suggestCharts:', error);\n",
              "      }\n",
              "      quickchartButtonEl.classList.remove('colab-df-spinner');\n",
              "      quickchartButtonEl.classList.add('colab-df-quickchart-complete');\n",
              "    }\n",
              "    (() => {\n",
              "      let quickchartButtonEl =\n",
              "        document.querySelector('#df-0ef8aae1-0866-41da-aa82-ba89e1478d60 button');\n",
              "      quickchartButtonEl.style.display =\n",
              "        google.colab.kernel.accessAllowed ? 'block' : 'none';\n",
              "    })();\n",
              "  </script>\n",
              "</div>\n",
              "\n",
              "  <div id=\"id_b9190c3a-a700-4ba8-b5fe-5ac4b5dd3124\">\n",
              "    <style>\n",
              "      .colab-df-generate {\n",
              "        background-color: #E8F0FE;\n",
              "        border: none;\n",
              "        border-radius: 50%;\n",
              "        cursor: pointer;\n",
              "        display: none;\n",
              "        fill: #1967D2;\n",
              "        height: 32px;\n",
              "        padding: 0 0 0 0;\n",
              "        width: 32px;\n",
              "      }\n",
              "\n",
              "      .colab-df-generate:hover {\n",
              "        background-color: #E2EBFA;\n",
              "        box-shadow: 0px 1px 2px rgba(60, 64, 67, 0.3), 0px 1px 3px 1px rgba(60, 64, 67, 0.15);\n",
              "        fill: #174EA6;\n",
              "      }\n",
              "\n",
              "      [theme=dark] .colab-df-generate {\n",
              "        background-color: #3B4455;\n",
              "        fill: #D2E3FC;\n",
              "      }\n",
              "\n",
              "      [theme=dark] .colab-df-generate:hover {\n",
              "        background-color: #434B5C;\n",
              "        box-shadow: 0px 1px 3px 1px rgba(0, 0, 0, 0.15);\n",
              "        filter: drop-shadow(0px 1px 2px rgba(0, 0, 0, 0.3));\n",
              "        fill: #FFFFFF;\n",
              "      }\n",
              "    </style>\n",
              "    <button class=\"colab-df-generate\" onclick=\"generateWithVariable('test_X')\"\n",
              "            title=\"Generate code using this dataframe.\"\n",
              "            style=\"display:none;\">\n",
              "\n",
              "  <svg xmlns=\"http://www.w3.org/2000/svg\" height=\"24px\"viewBox=\"0 0 24 24\"\n",
              "       width=\"24px\">\n",
              "    <path d=\"M7,19H8.4L18.45,9,17,7.55,7,17.6ZM5,21V16.75L18.45,3.32a2,2,0,0,1,2.83,0l1.4,1.43a1.91,1.91,0,0,1,.58,1.4,1.91,1.91,0,0,1-.58,1.4L9.25,21ZM18.45,9,17,7.55Zm-12,3A5.31,5.31,0,0,0,4.9,8.1,5.31,5.31,0,0,0,1,6.5,5.31,5.31,0,0,0,4.9,4.9,5.31,5.31,0,0,0,6.5,1,5.31,5.31,0,0,0,8.1,4.9,5.31,5.31,0,0,0,12,6.5,5.46,5.46,0,0,0,6.5,12Z\"/>\n",
              "  </svg>\n",
              "    </button>\n",
              "    <script>\n",
              "      (() => {\n",
              "      const buttonEl =\n",
              "        document.querySelector('#id_b9190c3a-a700-4ba8-b5fe-5ac4b5dd3124 button.colab-df-generate');\n",
              "      buttonEl.style.display =\n",
              "        google.colab.kernel.accessAllowed ? 'block' : 'none';\n",
              "\n",
              "      buttonEl.onclick = () => {\n",
              "        google.colab.notebook.generateWithVariable('test_X');\n",
              "      }\n",
              "      })();\n",
              "    </script>\n",
              "  </div>\n",
              "\n",
              "    </div>\n",
              "  </div>\n"
            ]
          },
          "metadata": {},
          "execution_count": 218
        }
      ]
    },
    {
      "cell_type": "markdown",
      "source": [
        "## 모델링 및 예측하기"
      ],
      "metadata": {
        "id": "YYIq_ZjMFuGq"
      },
      "id": "YYIq_ZjMFuGq"
    },
    {
      "cell_type": "code",
      "source": [
        "from sklearn.tree import DecisionTreeClassifier"
      ],
      "metadata": {
        "id": "ECfWC_DzF7Gd"
      },
      "id": "ECfWC_DzF7Gd",
      "execution_count": 219,
      "outputs": []
    },
    {
      "cell_type": "code",
      "source": [
        "print(f'class 0과 1의 도수\\n{train_y.value_counts()}')\n",
        "print('\\n')\n",
        "print('class 0의 비율',round(train_y.value_counts()[0]/len(train_y),3))\n",
        "print('class 1의 비율',round(train_y.value_counts()[1]/len(train_y),3))"
      ],
      "metadata": {
        "colab": {
          "base_uri": "https://localhost:8080/"
        },
        "id": "a9O2m1ZqGxWD",
        "outputId": "e62a5121-f8c5-4fe9-a857-54f2919ab6b2"
      },
      "id": "a9O2m1ZqGxWD",
      "execution_count": 226,
      "outputs": [
        {
          "output_type": "stream",
          "name": "stdout",
          "text": [
            "class 0과 1의 도수\n",
            "0    400\n",
            "1    214\n",
            "Name: Outcome, dtype: int64\n",
            "\n",
            "\n",
            "class 0의 비율 0.651\n",
            "class 1의 비율 0.349\n"
          ]
        }
      ]
    },
    {
      "cell_type": "code",
      "source": [
        "weights={0: 3.5, 1: 6.5}\n",
        "dt_clf = DecisionTreeClassifier(class_weight = weights, random_state = 123)"
      ],
      "metadata": {
        "id": "gZpRQBvSHky6"
      },
      "id": "gZpRQBvSHky6",
      "execution_count": 228,
      "outputs": []
    },
    {
      "cell_type": "code",
      "source": [
        "from sklearn.model_selection import StratifiedKFold\n",
        "skf = StratifiedKFold(n_splits = 5, shuffle = True, random_state = 123)"
      ],
      "metadata": {
        "id": "c684OT-aGE4y"
      },
      "execution_count": 229,
      "outputs": [],
      "id": "c684OT-aGE4y"
    },
    {
      "cell_type": "code",
      "source": [
        "param_grid = {\n",
        "    'max_depth': range(2,15),\n",
        "    'min_samples_split': range(2, 10),\n",
        "    'min_samples_leaf': [1, 2, 3, 4, 5, 6],\n",
        "    'max_leaf_nodes' : range(2, 15)\n",
        "}\n",
        "\n",
        "\n",
        "grid_search = GridSearchCV(estimator=dt_clf, scoring='f1', param_grid=param_grid, cv=skf)\n",
        "\n",
        "grid_search.fit(train_X, train_y)\n",
        "\n",
        "print(\"Best Parameters:\", grid_search.best_params_)\n",
        "print(\"Best CV Score:\", grid_search.best_score_)"
      ],
      "metadata": {
        "colab": {
          "base_uri": "https://localhost:8080/"
        },
        "outputId": "33a1077d-2cc5-485b-cfb4-2f4442becaed",
        "id": "ZRwMXS-UGE4z"
      },
      "execution_count": 232,
      "outputs": [
        {
          "output_type": "stream",
          "name": "stdout",
          "text": [
            "Best Parameters: {'max_depth': 6, 'max_leaf_nodes': 13, 'min_samples_leaf': 1, 'min_samples_split': 2}\n",
            "Best CV Score: 0.6535097933162507\n"
          ]
        }
      ],
      "id": "ZRwMXS-UGE4z"
    },
    {
      "cell_type": "code",
      "source": [
        "best_classifier = grid_search.best_estimator_\n",
        "best_classifier.fit(train_X, train_y)"
      ],
      "metadata": {
        "colab": {
          "base_uri": "https://localhost:8080/",
          "height": 92
        },
        "outputId": "4149d2e3-e273-4990-f5fb-d9cd801040e9",
        "id": "sY9WhxDAGE4z"
      },
      "execution_count": 233,
      "outputs": [
        {
          "output_type": "execute_result",
          "data": {
            "text/plain": [
              "DecisionTreeClassifier(class_weight={0: 3.5, 1: 6.5}, max_depth=6,\n",
              "                       max_leaf_nodes=13, random_state=123)"
            ],
            "text/html": [
              "<style>#sk-container-id-4 {color: black;background-color: white;}#sk-container-id-4 pre{padding: 0;}#sk-container-id-4 div.sk-toggleable {background-color: white;}#sk-container-id-4 label.sk-toggleable__label {cursor: pointer;display: block;width: 100%;margin-bottom: 0;padding: 0.3em;box-sizing: border-box;text-align: center;}#sk-container-id-4 label.sk-toggleable__label-arrow:before {content: \"▸\";float: left;margin-right: 0.25em;color: #696969;}#sk-container-id-4 label.sk-toggleable__label-arrow:hover:before {color: black;}#sk-container-id-4 div.sk-estimator:hover label.sk-toggleable__label-arrow:before {color: black;}#sk-container-id-4 div.sk-toggleable__content {max-height: 0;max-width: 0;overflow: hidden;text-align: left;background-color: #f0f8ff;}#sk-container-id-4 div.sk-toggleable__content pre {margin: 0.2em;color: black;border-radius: 0.25em;background-color: #f0f8ff;}#sk-container-id-4 input.sk-toggleable__control:checked~div.sk-toggleable__content {max-height: 200px;max-width: 100%;overflow: auto;}#sk-container-id-4 input.sk-toggleable__control:checked~label.sk-toggleable__label-arrow:before {content: \"▾\";}#sk-container-id-4 div.sk-estimator input.sk-toggleable__control:checked~label.sk-toggleable__label {background-color: #d4ebff;}#sk-container-id-4 div.sk-label input.sk-toggleable__control:checked~label.sk-toggleable__label {background-color: #d4ebff;}#sk-container-id-4 input.sk-hidden--visually {border: 0;clip: rect(1px 1px 1px 1px);clip: rect(1px, 1px, 1px, 1px);height: 1px;margin: -1px;overflow: hidden;padding: 0;position: absolute;width: 1px;}#sk-container-id-4 div.sk-estimator {font-family: monospace;background-color: #f0f8ff;border: 1px dotted black;border-radius: 0.25em;box-sizing: border-box;margin-bottom: 0.5em;}#sk-container-id-4 div.sk-estimator:hover {background-color: #d4ebff;}#sk-container-id-4 div.sk-parallel-item::after {content: \"\";width: 100%;border-bottom: 1px solid gray;flex-grow: 1;}#sk-container-id-4 div.sk-label:hover label.sk-toggleable__label {background-color: #d4ebff;}#sk-container-id-4 div.sk-serial::before {content: \"\";position: absolute;border-left: 1px solid gray;box-sizing: border-box;top: 0;bottom: 0;left: 50%;z-index: 0;}#sk-container-id-4 div.sk-serial {display: flex;flex-direction: column;align-items: center;background-color: white;padding-right: 0.2em;padding-left: 0.2em;position: relative;}#sk-container-id-4 div.sk-item {position: relative;z-index: 1;}#sk-container-id-4 div.sk-parallel {display: flex;align-items: stretch;justify-content: center;background-color: white;position: relative;}#sk-container-id-4 div.sk-item::before, #sk-container-id-4 div.sk-parallel-item::before {content: \"\";position: absolute;border-left: 1px solid gray;box-sizing: border-box;top: 0;bottom: 0;left: 50%;z-index: -1;}#sk-container-id-4 div.sk-parallel-item {display: flex;flex-direction: column;z-index: 1;position: relative;background-color: white;}#sk-container-id-4 div.sk-parallel-item:first-child::after {align-self: flex-end;width: 50%;}#sk-container-id-4 div.sk-parallel-item:last-child::after {align-self: flex-start;width: 50%;}#sk-container-id-4 div.sk-parallel-item:only-child::after {width: 0;}#sk-container-id-4 div.sk-dashed-wrapped {border: 1px dashed gray;margin: 0 0.4em 0.5em 0.4em;box-sizing: border-box;padding-bottom: 0.4em;background-color: white;}#sk-container-id-4 div.sk-label label {font-family: monospace;font-weight: bold;display: inline-block;line-height: 1.2em;}#sk-container-id-4 div.sk-label-container {text-align: center;}#sk-container-id-4 div.sk-container {/* jupyter's `normalize.less` sets `[hidden] { display: none; }` but bootstrap.min.css set `[hidden] { display: none !important; }` so we also need the `!important` here to be able to override the default hidden behavior on the sphinx rendered scikit-learn.org. See: https://github.com/scikit-learn/scikit-learn/issues/21755 */display: inline-block !important;position: relative;}#sk-container-id-4 div.sk-text-repr-fallback {display: none;}</style><div id=\"sk-container-id-4\" class=\"sk-top-container\"><div class=\"sk-text-repr-fallback\"><pre>DecisionTreeClassifier(class_weight={0: 3.5, 1: 6.5}, max_depth=6,\n",
              "                       max_leaf_nodes=13, random_state=123)</pre><b>In a Jupyter environment, please rerun this cell to show the HTML representation or trust the notebook. <br />On GitHub, the HTML representation is unable to render, please try loading this page with nbviewer.org.</b></div><div class=\"sk-container\" hidden><div class=\"sk-item\"><div class=\"sk-estimator sk-toggleable\"><input class=\"sk-toggleable__control sk-hidden--visually\" id=\"sk-estimator-id-4\" type=\"checkbox\" checked><label for=\"sk-estimator-id-4\" class=\"sk-toggleable__label sk-toggleable__label-arrow\">DecisionTreeClassifier</label><div class=\"sk-toggleable__content\"><pre>DecisionTreeClassifier(class_weight={0: 3.5, 1: 6.5}, max_depth=6,\n",
              "                       max_leaf_nodes=13, random_state=123)</pre></div></div></div></div></div>"
            ]
          },
          "metadata": {},
          "execution_count": 233
        }
      ],
      "id": "sY9WhxDAGE4z"
    },
    {
      "cell_type": "code",
      "source": [
        "predict_result = best_classifier.predict(test_X)\n",
        "\n",
        "\n",
        "from sklearn.metrics import f1_score\n",
        "\n",
        "final_score = f1_score(test_y, predict_result)\n",
        "print(f'모델의 f1 score : {final_score}')"
      ],
      "metadata": {
        "colab": {
          "base_uri": "https://localhost:8080/"
        },
        "id": "S5sI0LG9F7CA",
        "outputId": "df505761-c0aa-42b5-cbc5-04ccf042f16a"
      },
      "id": "S5sI0LG9F7CA",
      "execution_count": 234,
      "outputs": [
        {
          "output_type": "stream",
          "name": "stdout",
          "text": [
            "모델의 f1 score : 0.706766917293233\n"
          ]
        }
      ]
    },
    {
      "cell_type": "code",
      "source": [
        "from sklearn.metrics import confusion_matrix\n",
        "cm = confusion_matrix(test_y, predict_result)\n",
        "\n",
        "# 혼동 행렬 시각화\n",
        "sns.heatmap(cm, annot=True, fmt=\"d\", cmap=\"Blues\", cbar=False)\n",
        "plt.title(f'Confusion Matrix\\nF1 Score: {final_score:.2f}')\n",
        "plt.xlabel('Predicted')\n",
        "plt.ylabel('True')\n",
        "plt.show()"
      ],
      "metadata": {
        "colab": {
          "base_uri": "https://localhost:8080/",
          "height": 493
        },
        "id": "LOqPXvqvF6-e",
        "outputId": "7533f939-0003-4e48-c952-87c6af088f54"
      },
      "id": "LOqPXvqvF6-e",
      "execution_count": 235,
      "outputs": [
        {
          "output_type": "display_data",
          "data": {
            "text/plain": [
              "<Figure size 640x480 with 1 Axes>"
            ],
            "image/png": "[encoded data removed]"
          },
          "metadata": {}
        }
      ]
    },
    {
      "cell_type": "code",
      "source": [
        "# 추가로 변수 중요도도 확인하기\n",
        "feature_importance = best_classifier.feature_importances_\n",
        "feature_names = train_X.columns\n",
        "\n",
        "sorted_idx = np.argsort(feature_importance)[::-1]\n",
        "\n",
        "# 정렬된 특성 중요도 및 특성 이름 출력\n",
        "for idx in sorted_idx:\n",
        "    print(f\"{feature_names[idx]}: {feature_importance[idx]}\")\n",
        "\n",
        "plt.figure(figsize=(10, 10))\n",
        "plt.bar(range(len(feature_importance)), feature_importance[sorted_idx], align=\"center\")\n",
        "plt.xticks(range(len(feature_importance)), np.array(feature_names)[sorted_idx], rotation=45)\n",
        "plt.xlabel(\"Feature\")\n",
        "plt.ylabel(\"Importance\")\n",
        "plt.title(\"Feature Importance\")\n",
        "plt.show()"
      ],
      "metadata": {
        "colab": {
          "base_uri": "https://localhost:8080/",
          "height": 1000
        },
        "id": "tPqdEx4ZJ97z",
        "outputId": "ad3d7c4c-1057-46f7-8da1-2000ca227e46"
      },
      "id": "tPqdEx4ZJ97z",
      "execution_count": 239,
      "outputs": [
        {
          "output_type": "stream",
          "name": "stdout",
          "text": [
            "Glucose: 0.5490743918581985\n",
            "BMI: 0.16479791934950724\n",
            "SkinThickness: 0.11191355959734617\n",
            "Age: 0.11076753203201083\n",
            "Insulin: 0.0634465971629372\n",
            "Pregnancies_more_than_2: 0.0\n",
            "Older_Than_30: 0.0\n",
            "DiabetesPedigreeFunction: 0.0\n",
            "BloodPressure: 0.0\n",
            "Pregnancies: 0.0\n"
          ]
        },
        {
          "output_type": "display_data",
          "data": {
            "text/plain": [
              "<Figure size 1000x1000 with 1 Axes>"
            ],
            "image/png": "[encoded data removed]"
          },
          "metadata": {}
        }
      ]
    }
  ],
  "metadata": {
    "colab": {
      "provenance": [],
      "toc_visible": true
    },
    "kernelspec": {
      "display_name": "Python 3 (ipykernel)",
      "language": "python",
      "name": "python3"
    },
    "language_info": {
      "codemirror_mode": {
        "name": "ipython",
        "version": 3
      },
      "file_extension": ".py",
      "mimetype": "text/x-python",
      "name": "python",
      "nbconvert_exporter": "python",
      "pygments_lexer": "ipython3",
      "version": "3.8.16"
    }
  },
  "nbformat": 4,
  "nbformat_minor": 5
}