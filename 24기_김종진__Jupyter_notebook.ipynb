{
  "cells": [
    {
      "cell_type": "markdown",
      "metadata": {
        "id": "kINDRpe73jTL"
      },
      "source": [
        "<font size=\"5\"><center> **Jupyter Notebook 사용법** </center><font>"
      ]
    },
    {
      "cell_type": "markdown",
      "metadata": {
        "id": "NUsiIfRO0DEO"
      },
      "source": [
        "**2024-1 교육세션**<div style=\"text-align: right\"> YBIGTA 23기 DE 김현호</div>\n",
        "<div style=\"text-align: right\">(Thanks to 14기 이용하, 15기 송하룡, 16기 김지환, 17기 이동주, 18기 정재은, 19기 유임성, 20기 금종연, 21기 박제연, 22기 김진형)</div>"
      ]
    },
    {
      "cell_type": "markdown",
      "metadata": {
        "id": "viIwyn9p0DEU"
      },
      "source": [
        "# Python 과제"
      ]
    },
    {
      "cell_type": "markdown",
      "metadata": {
        "id": "brsf6BkUeJnH"
      },
      "source": [
        "## 과제 1\n",
        "\n",
        "**튜플**을 오름차순 정렬해서 리스트로 반환하는 함수를 만들어주세요.\n",
        "```sorted()``` 함수는 금지입니다. 버블 정렬, 삽입 정렬, 퀵 정렬 등 원하는 정렬 알고리즘을 선택해주세요\n",
        "\n",
        "\n",
        "```python3\n",
        "tup = (3, 4, 1)\n",
        "lst = sort(tup)\n",
        "# [1, 3, 4]가 나와야 함\n",
        "print(lst)\n",
        "```"
      ]
    },
    {
      "cell_type": "code",
      "execution_count": null,
      "metadata": {
        "id": "D5cUtBS9eJnH"
      },
      "outputs": [],
      "source": [
        "def sort(tup):\n",
        "    # 이 부분은 지우지 말아주세요\n",
        "    if not isinstance(tup, tuple):\n",
        "        raise TypeError(\"tuple을 넣어주세요\")\n",
        "    # pass를 지우고 코드를 채워주세요\n",
        "    return_list = list(tup)\n",
        "    sorted = False\n",
        "    length = len(return_list)\n",
        "    while not sorted:\n",
        "      sorted = True\n",
        "      for i in range(length-1) :\n",
        "        if return_list[i] > return_list[i+ 1]:\n",
        "          tmp= return_list[i]\n",
        "          return_list[i] = return_list[i+ 1]\n",
        "          return_list[i+ 1] = tmp\n",
        "          sorted = False\n",
        "    return return_list"
      ]
    },
    {
      "cell_type": "code",
      "execution_count": null,
      "metadata": {
        "id": "ZicbqghHeJnI",
        "colab": {
          "base_uri": "https://localhost:8080/"
        },
        "outputId": "9b9fa99e-96f5-45ee-8ce4-64ae47e2e252"
      },
      "outputs": [
        {
          "output_type": "stream",
          "name": "stdout",
          "text": [
            "[1, 3, 8, 9, 11]\n"
          ]
        }
      ],
      "source": [
        "# 결과확인\n",
        "tup = (8, 9, 1, 3, 11)\n",
        "print(sort(tup))"
      ]
    },
    {
      "cell_type": "markdown",
      "source": [
        "**코드 한 줄 설명**\n",
        "> 튜플을 리스트로 변환한 후, 버블 정렬로 sorting한 후 이를 반환"
      ],
      "metadata": {
        "id": "zaqzfRvQzqDU"
      }
    },
    {
      "cell_type": "markdown",
      "metadata": {
        "id": "UvU1Zh9Q0DEd"
      },
      "source": [
        "## 과제 2\n",
        "\n",
        "1. 'Point' 라는 이름의 클래스를 만들어 주세요.\n",
        "\n",
        "2. 'Point' 클래스는 0이 아닌 정수 x와 y를 인스턴스 변수를 생성자에 입력 받습니다.\n",
        "\n",
        "3. 'Point' 클래스는 위치를 set하는 함수 ```set_position(x, y)```이 있습니다.\n",
        "\n",
        "4. 'Point' 클래스는 위치를 get하는 함수 ```get_position()```이 있습니다.\n",
        "\n",
        "5. 'Point' 클래스는 다른 Point instance와의 거리를 계산하는 ```get_dist()``` 함수가 있습니다.\n",
        "\n",
        "6. 'Point' 클래스는 ```print(Point)```를 했을 때 Point(x: x, y: y)를 출력해야합니다."
      ]
    },
    {
      "cell_type": "code",
      "execution_count": null,
      "metadata": {
        "id": "9DfbZwEV0DEe"
      },
      "outputs": [],
      "source": [
        "from math import sqrt\n",
        "\n",
        "class Point:\n",
        "    # pass를 지우고 클래스를 완성해주세요!!\n",
        "    def __init__(self,x,y) :\n",
        "      self.x = x\n",
        "      self.y = y\n",
        "\n",
        "    def __str__(self):\n",
        "      return 'x : {}, y : {}'.format(self.x, self.y)\n",
        "\n",
        "    def set_point(self, x, y) :\n",
        "      self.x = x\n",
        "      self.y = y\n",
        "\n",
        "    def get_dist(self, point) :\n",
        "      dist = sqrt((self.x - point.x)**2+(self.y-point.y)**2)\n",
        "      return dist\n",
        "\n",
        "    def get_point(self) :\n",
        "      print('x : {}, y : {}'.format(self.x, self.y))"
      ]
    },
    {
      "cell_type": "code",
      "source": [
        "p1 = Point(1, 2)\n",
        "p1.get_point()"
      ],
      "metadata": {
        "colab": {
          "base_uri": "https://localhost:8080/"
        },
        "id": "Om-kwMJ0wfjt",
        "outputId": "cd0033d4-bf62-4245-c9ed-707eb0557177"
      },
      "execution_count": null,
      "outputs": [
        {
          "output_type": "stream",
          "name": "stdout",
          "text": [
            "x : 1, y : 2\n"
          ]
        }
      ]
    },
    {
      "cell_type": "code",
      "source": [
        "p1.set_point(10,20)\n",
        "p1.get_point()"
      ],
      "metadata": {
        "colab": {
          "base_uri": "https://localhost:8080/"
        },
        "id": "f39JqcsTwk1Q",
        "outputId": "bff51ff6-3687-4e02-99b4-647e039ca372"
      },
      "execution_count": null,
      "outputs": [
        {
          "output_type": "stream",
          "name": "stdout",
          "text": [
            "x : 10, y : 20\n"
          ]
        }
      ]
    },
    {
      "cell_type": "code",
      "source": [
        "p2 = Point(3, 4)\n",
        "print(p1.get_dist(p2))"
      ],
      "metadata": {
        "colab": {
          "base_uri": "https://localhost:8080/"
        },
        "id": "kdFtXLs_yq_W",
        "outputId": "c87d8983-a51e-459a-ee7c-03f91c730a73"
      },
      "execution_count": null,
      "outputs": [
        {
          "output_type": "stream",
          "name": "stdout",
          "text": [
            "17.46424919657298\n"
          ]
        }
      ]
    },
    {
      "cell_type": "code",
      "source": [
        "print(p1)\n",
        "print(p2)"
      ],
      "metadata": {
        "colab": {
          "base_uri": "https://localhost:8080/"
        },
        "id": "ZAmEnUDTxh7A",
        "outputId": "a65ee74c-0cdb-4d69-f689-7916d0e6906f"
      },
      "execution_count": null,
      "outputs": [
        {
          "output_type": "stream",
          "name": "stdout",
          "text": [
            "x : 10, y : 20\n",
            "x : 3, y : 4\n"
          ]
        }
      ]
    },
    {
      "cell_type": "markdown",
      "source": [
        "**코드 한 줄 설명**\n",
        "> * point 클래스 : x와 y값을 받아 각각 저장\n",
        "> * get_point : 현재 저장된 x와 y값을 출력\n",
        "> * set_point : 새로운 점으로 지정하고 싶을 때 사용\n",
        "> * get_dist : 다른 점을 받아, 현재 저장된 점과의 거리를 계산해서 반환\n",
        "> * __ str __ : print(포인트) 시 인스턴스를 함수의 인자로 넘김"
      ],
      "metadata": {
        "id": "aVpwQy1DzOwQ"
      }
    }
  ],
  "metadata": {
    "colab": {
      "provenance": []
    },
    "kernelspec": {
      "display_name": "ybenv",
      "language": "python",
      "name": "ybenv"
    },
    "language_info": {
      "codemirror_mode": {
        "name": "ipython",
        "version": 3
      },
      "file_extension": ".py",
      "mimetype": "text/x-python",
      "name": "python",
      "nbconvert_exporter": "python",
      "pygments_lexer": "ipython3",
      "version": "3.9.15"
    },
    "vscode": {
      "interpreter": {
        "hash": "111b3c0f9f9c8a15f3230a7297187edf788287da88680f2d51f02d9a205d0f47"
      }
    }
  },
  "nbformat": 4,
  "nbformat_minor": 0
}